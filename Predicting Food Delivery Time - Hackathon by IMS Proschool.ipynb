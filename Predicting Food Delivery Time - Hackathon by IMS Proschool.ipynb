{
 "cells": [
  {
   "cell_type": "markdown",
   "metadata": {},
   "source": [
    "Size of training set: 11,094 records\n",
    "\n",
    "Size of test set: 2,774 records\n",
    "\n",
    "FEATURES:\n",
    "\n",
    "Restaurant: A unique ID that represents a restaurant.\n",
    "\n",
    "Location: The location of the restaurant.\n",
    "\n",
    "Cuisines: The cuisines offered by the restaurant.\n",
    "\n",
    "Average_Cost: The average cost for one person/order.\n",
    "\n",
    "Minimum_Order: The minimum order amount.\n",
    "\n",
    "Rating: Customer rating for the restaurant.\n",
    "\n",
    "Votes: The total number of customer votes for the restaurant.\n",
    "\n",
    "Reviews: The number of customer reviews for the restaurant.\n",
    "\n",
    "Delivery_Time: The order delivery time of the restaurant. (Target Classes)"
   ]
  },
  {
   "cell_type": "code",
   "execution_count": 1,
   "metadata": {},
   "outputs": [],
   "source": [
    "#Importing necessary libraries\n",
    "import pandas as pd\n",
    "import numpy as np\n",
    "import re\n",
    "from tqdm import tqdm"
   ]
  },
  {
   "cell_type": "code",
   "execution_count": 2,
   "metadata": {},
   "outputs": [],
   "source": [
    "#Loading data\n",
    "train = pd.read_excel(\"Data_Train.xlsx\")\n",
    "test = pd.read_excel(\"Data_Test.xlsx\")"
   ]
  },
  {
   "cell_type": "markdown",
   "metadata": {},
   "source": [
    "# Train data"
   ]
  },
  {
   "cell_type": "code",
   "execution_count": 3,
   "metadata": {},
   "outputs": [
    {
     "data": {
      "text/html": [
       "<div>\n",
       "<style scoped>\n",
       "    .dataframe tbody tr th:only-of-type {\n",
       "        vertical-align: middle;\n",
       "    }\n",
       "\n",
       "    .dataframe tbody tr th {\n",
       "        vertical-align: top;\n",
       "    }\n",
       "\n",
       "    .dataframe thead th {\n",
       "        text-align: right;\n",
       "    }\n",
       "</style>\n",
       "<table border=\"1\" class=\"dataframe\">\n",
       "  <thead>\n",
       "    <tr style=\"text-align: right;\">\n",
       "      <th></th>\n",
       "      <th>Restaurant</th>\n",
       "      <th>Location</th>\n",
       "      <th>Cuisines</th>\n",
       "      <th>Average_Cost</th>\n",
       "      <th>Minimum_Order</th>\n",
       "      <th>Rating</th>\n",
       "      <th>Votes</th>\n",
       "      <th>Reviews</th>\n",
       "      <th>Delivery_Time</th>\n",
       "    </tr>\n",
       "  </thead>\n",
       "  <tbody>\n",
       "    <tr>\n",
       "      <th>0</th>\n",
       "      <td>ID_6321</td>\n",
       "      <td>FTI College, Law College Road, Pune</td>\n",
       "      <td>Fast Food, Rolls, Burger, Salad, Wraps</td>\n",
       "      <td>₹200</td>\n",
       "      <td>₹50</td>\n",
       "      <td>3.5</td>\n",
       "      <td>12</td>\n",
       "      <td>4</td>\n",
       "      <td>30 minutes</td>\n",
       "    </tr>\n",
       "    <tr>\n",
       "      <th>1</th>\n",
       "      <td>ID_2882</td>\n",
       "      <td>Sector 3, Marathalli</td>\n",
       "      <td>Ice Cream, Desserts</td>\n",
       "      <td>₹100</td>\n",
       "      <td>₹50</td>\n",
       "      <td>3.5</td>\n",
       "      <td>11</td>\n",
       "      <td>4</td>\n",
       "      <td>30 minutes</td>\n",
       "    </tr>\n",
       "    <tr>\n",
       "      <th>2</th>\n",
       "      <td>ID_1595</td>\n",
       "      <td>Mumbai Central</td>\n",
       "      <td>Italian, Street Food, Fast Food</td>\n",
       "      <td>₹150</td>\n",
       "      <td>₹50</td>\n",
       "      <td>3.6</td>\n",
       "      <td>99</td>\n",
       "      <td>30</td>\n",
       "      <td>65 minutes</td>\n",
       "    </tr>\n",
       "    <tr>\n",
       "      <th>3</th>\n",
       "      <td>ID_5929</td>\n",
       "      <td>Sector 1, Noida</td>\n",
       "      <td>Mughlai, North Indian, Chinese</td>\n",
       "      <td>₹250</td>\n",
       "      <td>₹99</td>\n",
       "      <td>3.7</td>\n",
       "      <td>176</td>\n",
       "      <td>95</td>\n",
       "      <td>30 minutes</td>\n",
       "    </tr>\n",
       "    <tr>\n",
       "      <th>4</th>\n",
       "      <td>ID_6123</td>\n",
       "      <td>Rmz Centennial, I Gate, Whitefield</td>\n",
       "      <td>Cafe, Beverages</td>\n",
       "      <td>₹200</td>\n",
       "      <td>₹99</td>\n",
       "      <td>3.2</td>\n",
       "      <td>521</td>\n",
       "      <td>235</td>\n",
       "      <td>65 minutes</td>\n",
       "    </tr>\n",
       "    <tr>\n",
       "      <th>5</th>\n",
       "      <td>ID_5221</td>\n",
       "      <td>Rmz Centennial, I Gate, Whitefield</td>\n",
       "      <td>South Indian, North Indian, Chinese</td>\n",
       "      <td>₹150</td>\n",
       "      <td>₹50</td>\n",
       "      <td>3.8</td>\n",
       "      <td>46</td>\n",
       "      <td>18</td>\n",
       "      <td>30 minutes</td>\n",
       "    </tr>\n",
       "    <tr>\n",
       "      <th>6</th>\n",
       "      <td>ID_3777</td>\n",
       "      <td>Mumbai Central</td>\n",
       "      <td>Beverages, Fast Food</td>\n",
       "      <td>₹150</td>\n",
       "      <td>₹50</td>\n",
       "      <td>3.7</td>\n",
       "      <td>108</td>\n",
       "      <td>31</td>\n",
       "      <td>30 minutes</td>\n",
       "    </tr>\n",
       "    <tr>\n",
       "      <th>7</th>\n",
       "      <td>ID_745</td>\n",
       "      <td>Delhi University-GTB Nagar</td>\n",
       "      <td>Chinese, Thai, Asian</td>\n",
       "      <td>₹650</td>\n",
       "      <td>₹50</td>\n",
       "      <td>4.0</td>\n",
       "      <td>1731</td>\n",
       "      <td>1235</td>\n",
       "      <td>45 minutes</td>\n",
       "    </tr>\n",
       "    <tr>\n",
       "      <th>8</th>\n",
       "      <td>ID_2970</td>\n",
       "      <td>Delhi University-GTB Nagar</td>\n",
       "      <td>Mithai, Street Food</td>\n",
       "      <td>₹100</td>\n",
       "      <td>₹50</td>\n",
       "      <td>3.9</td>\n",
       "      <td>110</td>\n",
       "      <td>26</td>\n",
       "      <td>30 minutes</td>\n",
       "    </tr>\n",
       "    <tr>\n",
       "      <th>9</th>\n",
       "      <td>ID_3474</td>\n",
       "      <td>Sector 1, Noida</td>\n",
       "      <td>Fast Food, North Indian, Rolls, Chinese, Momos...</td>\n",
       "      <td>₹200</td>\n",
       "      <td>₹50</td>\n",
       "      <td>3.9</td>\n",
       "      <td>562</td>\n",
       "      <td>294</td>\n",
       "      <td>65 minutes</td>\n",
       "    </tr>\n",
       "  </tbody>\n",
       "</table>\n",
       "</div>"
      ],
      "text/plain": [
       "  Restaurant                             Location  \\\n",
       "0    ID_6321  FTI College, Law College Road, Pune   \n",
       "1    ID_2882                 Sector 3, Marathalli   \n",
       "2    ID_1595                       Mumbai Central   \n",
       "3    ID_5929                      Sector 1, Noida   \n",
       "4    ID_6123   Rmz Centennial, I Gate, Whitefield   \n",
       "5    ID_5221   Rmz Centennial, I Gate, Whitefield   \n",
       "6    ID_3777                       Mumbai Central   \n",
       "7     ID_745           Delhi University-GTB Nagar   \n",
       "8    ID_2970           Delhi University-GTB Nagar   \n",
       "9    ID_3474                      Sector 1, Noida   \n",
       "\n",
       "                                            Cuisines Average_Cost  \\\n",
       "0             Fast Food, Rolls, Burger, Salad, Wraps         ₹200   \n",
       "1                                Ice Cream, Desserts         ₹100   \n",
       "2                    Italian, Street Food, Fast Food         ₹150   \n",
       "3                     Mughlai, North Indian, Chinese         ₹250   \n",
       "4                                    Cafe, Beverages         ₹200   \n",
       "5                South Indian, North Indian, Chinese         ₹150   \n",
       "6                               Beverages, Fast Food         ₹150   \n",
       "7                               Chinese, Thai, Asian         ₹650   \n",
       "8                                Mithai, Street Food         ₹100   \n",
       "9  Fast Food, North Indian, Rolls, Chinese, Momos...         ₹200   \n",
       "\n",
       "  Minimum_Order Rating Votes Reviews Delivery_Time  \n",
       "0           ₹50    3.5    12       4    30 minutes  \n",
       "1           ₹50    3.5    11       4    30 minutes  \n",
       "2           ₹50    3.6    99      30    65 minutes  \n",
       "3           ₹99    3.7   176      95    30 minutes  \n",
       "4           ₹99    3.2   521     235    65 minutes  \n",
       "5           ₹50    3.8    46      18    30 minutes  \n",
       "6           ₹50    3.7   108      31    30 minutes  \n",
       "7           ₹50    4.0  1731    1235    45 minutes  \n",
       "8           ₹50    3.9   110      26    30 minutes  \n",
       "9           ₹50    3.9   562     294    65 minutes  "
      ]
     },
     "execution_count": 3,
     "metadata": {},
     "output_type": "execute_result"
    }
   ],
   "source": [
    "\n",
    "#display the dataframe head(10) returns the first 10 rows\n",
    "train.head(10)\n",
    "\n"
   ]
  },
  {
   "cell_type": "code",
   "execution_count": 4,
   "metadata": {},
   "outputs": [
    {
     "data": {
      "text/plain": [
       "(11094, 9)"
      ]
     },
     "execution_count": 4,
     "metadata": {},
     "output_type": "execute_result"
    }
   ],
   "source": [
    "#Shape of a table (number or rows, number of columns)\n",
    "train.shape\n",
    "\n"
   ]
  },
  {
   "cell_type": "code",
   "execution_count": 5,
   "metadata": {},
   "outputs": [
    {
     "data": {
      "text/plain": [
       "Index(['Restaurant', 'Location', 'Cuisines', 'Average_Cost', 'Minimum_Order',\n",
       "       'Rating', 'Votes', 'Reviews', 'Delivery_Time'],\n",
       "      dtype='object')"
      ]
     },
     "execution_count": 5,
     "metadata": {},
     "output_type": "execute_result"
    }
   ],
   "source": [
    "#Display the names of all columns in a dataframe\n",
    "train.columns\n",
    "\n"
   ]
  },
  {
   "cell_type": "code",
   "execution_count": 6,
   "metadata": {},
   "outputs": [
    {
     "data": {
      "text/plain": [
       "Restaurant       0\n",
       "Location         0\n",
       "Cuisines         0\n",
       "Average_Cost     0\n",
       "Minimum_Order    0\n",
       "Rating           0\n",
       "Votes            0\n",
       "Reviews          0\n",
       "Delivery_Time    0\n",
       "dtype: int64"
      ]
     },
     "execution_count": 6,
     "metadata": {},
     "output_type": "execute_result"
    }
   ],
   "source": [
    "#Number of null values or empty cells present in each of the column\n",
    "train.isnull().sum()\n",
    "\n"
   ]
  },
  {
   "cell_type": "code",
   "execution_count": 7,
   "metadata": {},
   "outputs": [
    {
     "data": {
      "text/html": [
       "<div>\n",
       "<style scoped>\n",
       "    .dataframe tbody tr th:only-of-type {\n",
       "        vertical-align: middle;\n",
       "    }\n",
       "\n",
       "    .dataframe tbody tr th {\n",
       "        vertical-align: top;\n",
       "    }\n",
       "\n",
       "    .dataframe thead th {\n",
       "        text-align: right;\n",
       "    }\n",
       "</style>\n",
       "<table border=\"1\" class=\"dataframe\">\n",
       "  <thead>\n",
       "    <tr style=\"text-align: right;\">\n",
       "      <th></th>\n",
       "      <th>Restaurant</th>\n",
       "      <th>Location</th>\n",
       "      <th>Cuisines</th>\n",
       "      <th>Average_Cost</th>\n",
       "      <th>Minimum_Order</th>\n",
       "      <th>Rating</th>\n",
       "      <th>Votes</th>\n",
       "      <th>Reviews</th>\n",
       "      <th>Delivery_Time</th>\n",
       "    </tr>\n",
       "  </thead>\n",
       "  <tbody>\n",
       "    <tr>\n",
       "      <th>count</th>\n",
       "      <td>11094</td>\n",
       "      <td>11094</td>\n",
       "      <td>11094</td>\n",
       "      <td>11094</td>\n",
       "      <td>11094</td>\n",
       "      <td>11094</td>\n",
       "      <td>11094</td>\n",
       "      <td>11094</td>\n",
       "      <td>11094</td>\n",
       "    </tr>\n",
       "    <tr>\n",
       "      <th>unique</th>\n",
       "      <td>7480</td>\n",
       "      <td>35</td>\n",
       "      <td>2179</td>\n",
       "      <td>26</td>\n",
       "      <td>18</td>\n",
       "      <td>33</td>\n",
       "      <td>1103</td>\n",
       "      <td>761</td>\n",
       "      <td>7</td>\n",
       "    </tr>\n",
       "    <tr>\n",
       "      <th>top</th>\n",
       "      <td>ID_7184</td>\n",
       "      <td>Mico Layout, Stage 2, BTM Layout,Bangalore</td>\n",
       "      <td>North Indian</td>\n",
       "      <td>₹200</td>\n",
       "      <td>₹50</td>\n",
       "      <td>-</td>\n",
       "      <td>-</td>\n",
       "      <td>-</td>\n",
       "      <td>30 minutes</td>\n",
       "    </tr>\n",
       "    <tr>\n",
       "      <th>freq</th>\n",
       "      <td>22</td>\n",
       "      <td>947</td>\n",
       "      <td>850</td>\n",
       "      <td>3241</td>\n",
       "      <td>10118</td>\n",
       "      <td>1191</td>\n",
       "      <td>2074</td>\n",
       "      <td>2312</td>\n",
       "      <td>7406</td>\n",
       "    </tr>\n",
       "  </tbody>\n",
       "</table>\n",
       "</div>"
      ],
      "text/plain": [
       "       Restaurant                                    Location      Cuisines  \\\n",
       "count       11094                                       11094         11094   \n",
       "unique       7480                                          35          2179   \n",
       "top       ID_7184  Mico Layout, Stage 2, BTM Layout,Bangalore  North Indian   \n",
       "freq           22                                         947           850   \n",
       "\n",
       "       Average_Cost Minimum_Order Rating  Votes Reviews Delivery_Time  \n",
       "count         11094         11094  11094  11094   11094         11094  \n",
       "unique           26            18     33   1103     761             7  \n",
       "top            ₹200           ₹50      -      -       -    30 minutes  \n",
       "freq           3241         10118   1191   2074    2312          7406  "
      ]
     },
     "execution_count": 7,
     "metadata": {},
     "output_type": "execute_result"
    }
   ],
   "source": [
    "#Displays stastical information about each of the columns eg. count, frequency of occurance of a value etc\n",
    "train.describe(include = 'all')\n",
    "\n"
   ]
  },
  {
   "cell_type": "code",
   "execution_count": 8,
   "metadata": {},
   "outputs": [
    {
     "name": "stdout",
     "output_type": "stream",
     "text": [
      "<class 'pandas.core.frame.DataFrame'>\n",
      "RangeIndex: 11094 entries, 0 to 11093\n",
      "Data columns (total 9 columns):\n",
      "Restaurant       11094 non-null object\n",
      "Location         11094 non-null object\n",
      "Cuisines         11094 non-null object\n",
      "Average_Cost     11094 non-null object\n",
      "Minimum_Order    11094 non-null object\n",
      "Rating           11094 non-null object\n",
      "Votes            11094 non-null object\n",
      "Reviews          11094 non-null object\n",
      "Delivery_Time    11094 non-null object\n",
      "dtypes: object(9)\n",
      "memory usage: 780.1+ KB\n"
     ]
    }
   ],
   "source": [
    "#Displays each of the column along with its type and the memory used by the data\n",
    "train.info()"
   ]
  },
  {
   "cell_type": "markdown",
   "metadata": {},
   "source": [
    "# Test Data"
   ]
  },
  {
   "cell_type": "code",
   "execution_count": 9,
   "metadata": {},
   "outputs": [
    {
     "data": {
      "text/plain": [
       "(2774, 8)"
      ]
     },
     "execution_count": 9,
     "metadata": {},
     "output_type": "execute_result"
    }
   ],
   "source": [
    "test.shape"
   ]
  },
  {
   "cell_type": "code",
   "execution_count": 10,
   "metadata": {},
   "outputs": [
    {
     "data": {
      "text/html": [
       "<div>\n",
       "<style scoped>\n",
       "    .dataframe tbody tr th:only-of-type {\n",
       "        vertical-align: middle;\n",
       "    }\n",
       "\n",
       "    .dataframe tbody tr th {\n",
       "        vertical-align: top;\n",
       "    }\n",
       "\n",
       "    .dataframe thead th {\n",
       "        text-align: right;\n",
       "    }\n",
       "</style>\n",
       "<table border=\"1\" class=\"dataframe\">\n",
       "  <thead>\n",
       "    <tr style=\"text-align: right;\">\n",
       "      <th></th>\n",
       "      <th>Restaurant</th>\n",
       "      <th>Location</th>\n",
       "      <th>Cuisines</th>\n",
       "      <th>Average_Cost</th>\n",
       "      <th>Minimum_Order</th>\n",
       "      <th>Rating</th>\n",
       "      <th>Votes</th>\n",
       "      <th>Reviews</th>\n",
       "    </tr>\n",
       "  </thead>\n",
       "  <tbody>\n",
       "    <tr>\n",
       "      <th>0</th>\n",
       "      <td>ID_2842</td>\n",
       "      <td>Mico Layout, Stage 2, BTM Layout,Bangalore</td>\n",
       "      <td>North Indian, Chinese, Assamese</td>\n",
       "      <td>₹350</td>\n",
       "      <td>₹50</td>\n",
       "      <td>4.2</td>\n",
       "      <td>361</td>\n",
       "      <td>225</td>\n",
       "    </tr>\n",
       "    <tr>\n",
       "      <th>1</th>\n",
       "      <td>ID_730</td>\n",
       "      <td>Mico Layout, Stage 2, BTM Layout,Bangalore</td>\n",
       "      <td>Biryani, Kebab</td>\n",
       "      <td>₹100</td>\n",
       "      <td>₹50</td>\n",
       "      <td>NEW</td>\n",
       "      <td>-</td>\n",
       "      <td>-</td>\n",
       "    </tr>\n",
       "    <tr>\n",
       "      <th>2</th>\n",
       "      <td>ID_4620</td>\n",
       "      <td>Sector 1, Noida</td>\n",
       "      <td>Fast Food</td>\n",
       "      <td>₹100</td>\n",
       "      <td>₹50</td>\n",
       "      <td>3.6</td>\n",
       "      <td>36</td>\n",
       "      <td>16</td>\n",
       "    </tr>\n",
       "    <tr>\n",
       "      <th>3</th>\n",
       "      <td>ID_5470</td>\n",
       "      <td>Babarpur, New Delhi, Delhi</td>\n",
       "      <td>Mithai, North Indian, Chinese, Fast Food, Sout...</td>\n",
       "      <td>₹200</td>\n",
       "      <td>₹50</td>\n",
       "      <td>3.6</td>\n",
       "      <td>66</td>\n",
       "      <td>33</td>\n",
       "    </tr>\n",
       "    <tr>\n",
       "      <th>4</th>\n",
       "      <td>ID_3249</td>\n",
       "      <td>Sector 1, Noida</td>\n",
       "      <td>Chinese, Fast Food</td>\n",
       "      <td>₹150</td>\n",
       "      <td>₹50</td>\n",
       "      <td>2.9</td>\n",
       "      <td>38</td>\n",
       "      <td>14</td>\n",
       "    </tr>\n",
       "    <tr>\n",
       "      <th>5</th>\n",
       "      <td>ID_506</td>\n",
       "      <td>Yerawada, Pune, Maharashtra</td>\n",
       "      <td>North Indian, Chinese</td>\n",
       "      <td>₹100</td>\n",
       "      <td>₹50</td>\n",
       "      <td>3.4</td>\n",
       "      <td>16</td>\n",
       "      <td>11</td>\n",
       "    </tr>\n",
       "    <tr>\n",
       "      <th>6</th>\n",
       "      <td>ID_8321</td>\n",
       "      <td>Raja Bazar, Kolkata</td>\n",
       "      <td>South Indian, Fast Food</td>\n",
       "      <td>₹200</td>\n",
       "      <td>₹50</td>\n",
       "      <td>3.3</td>\n",
       "      <td>72</td>\n",
       "      <td>10</td>\n",
       "    </tr>\n",
       "    <tr>\n",
       "      <th>7</th>\n",
       "      <td>ID_4559</td>\n",
       "      <td>Sector 3, Marathalli</td>\n",
       "      <td>Kerala, South Indian, Chinese</td>\n",
       "      <td>₹150</td>\n",
       "      <td>₹50</td>\n",
       "      <td>3.8</td>\n",
       "      <td>46</td>\n",
       "      <td>29</td>\n",
       "    </tr>\n",
       "    <tr>\n",
       "      <th>8</th>\n",
       "      <td>ID_7982</td>\n",
       "      <td>Sector 1, Noida</td>\n",
       "      <td>North Indian</td>\n",
       "      <td>₹200</td>\n",
       "      <td>₹50</td>\n",
       "      <td>NEW</td>\n",
       "      <td>-</td>\n",
       "      <td>-</td>\n",
       "    </tr>\n",
       "    <tr>\n",
       "      <th>9</th>\n",
       "      <td>ID_2869</td>\n",
       "      <td>D-Block, Sector 63, Noida</td>\n",
       "      <td>Mithai</td>\n",
       "      <td>₹200</td>\n",
       "      <td>₹50</td>\n",
       "      <td>3.2</td>\n",
       "      <td>5</td>\n",
       "      <td>2</td>\n",
       "    </tr>\n",
       "  </tbody>\n",
       "</table>\n",
       "</div>"
      ],
      "text/plain": [
       "  Restaurant                                    Location  \\\n",
       "0    ID_2842  Mico Layout, Stage 2, BTM Layout,Bangalore   \n",
       "1     ID_730  Mico Layout, Stage 2, BTM Layout,Bangalore   \n",
       "2    ID_4620                             Sector 1, Noida   \n",
       "3    ID_5470                  Babarpur, New Delhi, Delhi   \n",
       "4    ID_3249                             Sector 1, Noida   \n",
       "5     ID_506                 Yerawada, Pune, Maharashtra   \n",
       "6    ID_8321                         Raja Bazar, Kolkata   \n",
       "7    ID_4559                        Sector 3, Marathalli   \n",
       "8    ID_7982                             Sector 1, Noida   \n",
       "9    ID_2869                   D-Block, Sector 63, Noida   \n",
       "\n",
       "                                            Cuisines Average_Cost  \\\n",
       "0                    North Indian, Chinese, Assamese         ₹350   \n",
       "1                                     Biryani, Kebab         ₹100   \n",
       "2                                          Fast Food         ₹100   \n",
       "3  Mithai, North Indian, Chinese, Fast Food, Sout...         ₹200   \n",
       "4                                 Chinese, Fast Food         ₹150   \n",
       "5                              North Indian, Chinese         ₹100   \n",
       "6                            South Indian, Fast Food         ₹200   \n",
       "7                      Kerala, South Indian, Chinese         ₹150   \n",
       "8                                       North Indian         ₹200   \n",
       "9                                             Mithai         ₹200   \n",
       "\n",
       "  Minimum_Order Rating Votes Reviews  \n",
       "0           ₹50    4.2   361     225  \n",
       "1           ₹50    NEW     -       -  \n",
       "2           ₹50    3.6    36      16  \n",
       "3           ₹50    3.6    66      33  \n",
       "4           ₹50    2.9    38      14  \n",
       "5           ₹50    3.4    16      11  \n",
       "6           ₹50    3.3    72      10  \n",
       "7           ₹50    3.8    46      29  \n",
       "8           ₹50    NEW     -       -  \n",
       "9           ₹50    3.2     5       2  "
      ]
     },
     "execution_count": 10,
     "metadata": {},
     "output_type": "execute_result"
    }
   ],
   "source": [
    "test.head(10)"
   ]
  },
  {
   "cell_type": "code",
   "execution_count": 11,
   "metadata": {},
   "outputs": [
    {
     "data": {
      "text/plain": [
       "Index(['Restaurant', 'Location', 'Cuisines', 'Average_Cost', 'Minimum_Order',\n",
       "       'Rating', 'Votes', 'Reviews'],\n",
       "      dtype='object')"
      ]
     },
     "execution_count": 11,
     "metadata": {},
     "output_type": "execute_result"
    }
   ],
   "source": [
    "test.columns"
   ]
  },
  {
   "cell_type": "code",
   "execution_count": 12,
   "metadata": {},
   "outputs": [
    {
     "data": {
      "text/plain": [
       "Restaurant       0\n",
       "Location         0\n",
       "Cuisines         0\n",
       "Average_Cost     0\n",
       "Minimum_Order    0\n",
       "Rating           0\n",
       "Votes            0\n",
       "Reviews          0\n",
       "dtype: int64"
      ]
     },
     "execution_count": 12,
     "metadata": {},
     "output_type": "execute_result"
    }
   ],
   "source": [
    "#Number of null values or empty cells present in each of the column\n",
    "test.isnull().sum()"
   ]
  },
  {
   "cell_type": "code",
   "execution_count": 13,
   "metadata": {},
   "outputs": [
    {
     "data": {
      "text/html": [
       "<div>\n",
       "<style scoped>\n",
       "    .dataframe tbody tr th:only-of-type {\n",
       "        vertical-align: middle;\n",
       "    }\n",
       "\n",
       "    .dataframe tbody tr th {\n",
       "        vertical-align: top;\n",
       "    }\n",
       "\n",
       "    .dataframe thead th {\n",
       "        text-align: right;\n",
       "    }\n",
       "</style>\n",
       "<table border=\"1\" class=\"dataframe\">\n",
       "  <thead>\n",
       "    <tr style=\"text-align: right;\">\n",
       "      <th></th>\n",
       "      <th>Restaurant</th>\n",
       "      <th>Location</th>\n",
       "      <th>Cuisines</th>\n",
       "      <th>Average_Cost</th>\n",
       "      <th>Minimum_Order</th>\n",
       "      <th>Rating</th>\n",
       "      <th>Votes</th>\n",
       "      <th>Reviews</th>\n",
       "    </tr>\n",
       "  </thead>\n",
       "  <tbody>\n",
       "    <tr>\n",
       "      <th>count</th>\n",
       "      <td>2774</td>\n",
       "      <td>2774</td>\n",
       "      <td>2774</td>\n",
       "      <td>2774</td>\n",
       "      <td>2774</td>\n",
       "      <td>2774</td>\n",
       "      <td>2774</td>\n",
       "      <td>2774</td>\n",
       "    </tr>\n",
       "    <tr>\n",
       "      <th>unique</th>\n",
       "      <td>2401</td>\n",
       "      <td>35</td>\n",
       "      <td>881</td>\n",
       "      <td>19</td>\n",
       "      <td>9</td>\n",
       "      <td>30</td>\n",
       "      <td>580</td>\n",
       "      <td>392</td>\n",
       "    </tr>\n",
       "    <tr>\n",
       "      <th>top</th>\n",
       "      <td>ID_1209</td>\n",
       "      <td>D-Block, Sector 63, Noida</td>\n",
       "      <td>North Indian</td>\n",
       "      <td>₹200</td>\n",
       "      <td>₹50</td>\n",
       "      <td>-</td>\n",
       "      <td>-</td>\n",
       "      <td>-</td>\n",
       "    </tr>\n",
       "    <tr>\n",
       "      <th>freq</th>\n",
       "      <td>8</td>\n",
       "      <td>221</td>\n",
       "      <td>226</td>\n",
       "      <td>820</td>\n",
       "      <td>2556</td>\n",
       "      <td>305</td>\n",
       "      <td>542</td>\n",
       "      <td>593</td>\n",
       "    </tr>\n",
       "  </tbody>\n",
       "</table>\n",
       "</div>"
      ],
      "text/plain": [
       "       Restaurant                   Location      Cuisines Average_Cost  \\\n",
       "count        2774                       2774          2774         2774   \n",
       "unique       2401                         35           881           19   \n",
       "top       ID_1209  D-Block, Sector 63, Noida  North Indian         ₹200   \n",
       "freq            8                        221           226          820   \n",
       "\n",
       "       Minimum_Order Rating Votes Reviews  \n",
       "count           2774   2774  2774    2774  \n",
       "unique             9     30   580     392  \n",
       "top              ₹50      -     -       -  \n",
       "freq            2556    305   542     593  "
      ]
     },
     "execution_count": 13,
     "metadata": {},
     "output_type": "execute_result"
    }
   ],
   "source": [
    "#Displays stastical information about each of the columns eg. count, frequency of occurance of a value etc\n",
    "test.describe(include = 'all')"
   ]
  },
  {
   "cell_type": "code",
   "execution_count": 14,
   "metadata": {},
   "outputs": [
    {
     "name": "stdout",
     "output_type": "stream",
     "text": [
      "<class 'pandas.core.frame.DataFrame'>\n",
      "RangeIndex: 2774 entries, 0 to 2773\n",
      "Data columns (total 8 columns):\n",
      "Restaurant       2774 non-null object\n",
      "Location         2774 non-null object\n",
      "Cuisines         2774 non-null object\n",
      "Average_Cost     2774 non-null object\n",
      "Minimum_Order    2774 non-null object\n",
      "Rating           2774 non-null object\n",
      "Votes            2774 non-null object\n",
      "Reviews          2774 non-null object\n",
      "dtypes: object(8)\n",
      "memory usage: 173.5+ KB\n"
     ]
    }
   ],
   "source": [
    "#Displays each of the column along with its type and the memory used by the data\n",
    "test.info()"
   ]
  },
  {
   "cell_type": "markdown",
   "metadata": {},
   "source": [
    "# Data Cleaning "
   ]
  },
  {
   "cell_type": "markdown",
   "metadata": {},
   "source": [
    "We will consider the following features of training and test datasets. Here I have grouped the columns based on similarity of values which will make it easy for cleaning.\n",
    "\n",
    "Cleaning Average_Cost & Minimum_order columns to remove special characters and make them float variables.\n",
    "Location & Cuisines are categoriacal variables that needs to be cleaned before encoding.\n",
    "Rating, Votes & Reviews needs to be cleaned and converted to respective types."
   ]
  },
  {
   "cell_type": "markdown",
   "metadata": {},
   "source": [
    "Average_Cost & Minimum_order"
   ]
  },
  {
   "cell_type": "code",
   "execution_count": 15,
   "metadata": {},
   "outputs": [
    {
     "data": {
      "text/html": [
       "<div>\n",
       "<style scoped>\n",
       "    .dataframe tbody tr th:only-of-type {\n",
       "        vertical-align: middle;\n",
       "    }\n",
       "\n",
       "    .dataframe tbody tr th {\n",
       "        vertical-align: top;\n",
       "    }\n",
       "\n",
       "    .dataframe thead th {\n",
       "        text-align: right;\n",
       "    }\n",
       "</style>\n",
       "<table border=\"1\" class=\"dataframe\">\n",
       "  <thead>\n",
       "    <tr style=\"text-align: right;\">\n",
       "      <th></th>\n",
       "      <th>Restaurant</th>\n",
       "      <th>Location</th>\n",
       "      <th>Cuisines</th>\n",
       "      <th>Average_Cost</th>\n",
       "      <th>Minimum_Order</th>\n",
       "      <th>Rating</th>\n",
       "      <th>Votes</th>\n",
       "      <th>Reviews</th>\n",
       "      <th>Delivery_Time</th>\n",
       "    </tr>\n",
       "  </thead>\n",
       "  <tbody>\n",
       "    <tr>\n",
       "      <th>0</th>\n",
       "      <td>ID_6321</td>\n",
       "      <td>FTI College, Law College Road, Pune</td>\n",
       "      <td>Fast Food, Rolls, Burger, Salad, Wraps</td>\n",
       "      <td>₹200</td>\n",
       "      <td>₹50</td>\n",
       "      <td>3.5</td>\n",
       "      <td>12</td>\n",
       "      <td>4</td>\n",
       "      <td>30 minutes</td>\n",
       "    </tr>\n",
       "    <tr>\n",
       "      <th>1</th>\n",
       "      <td>ID_2882</td>\n",
       "      <td>Sector 3, Marathalli</td>\n",
       "      <td>Ice Cream, Desserts</td>\n",
       "      <td>₹100</td>\n",
       "      <td>₹50</td>\n",
       "      <td>3.5</td>\n",
       "      <td>11</td>\n",
       "      <td>4</td>\n",
       "      <td>30 minutes</td>\n",
       "    </tr>\n",
       "    <tr>\n",
       "      <th>2</th>\n",
       "      <td>ID_1595</td>\n",
       "      <td>Mumbai Central</td>\n",
       "      <td>Italian, Street Food, Fast Food</td>\n",
       "      <td>₹150</td>\n",
       "      <td>₹50</td>\n",
       "      <td>3.6</td>\n",
       "      <td>99</td>\n",
       "      <td>30</td>\n",
       "      <td>65 minutes</td>\n",
       "    </tr>\n",
       "    <tr>\n",
       "      <th>3</th>\n",
       "      <td>ID_5929</td>\n",
       "      <td>Sector 1, Noida</td>\n",
       "      <td>Mughlai, North Indian, Chinese</td>\n",
       "      <td>₹250</td>\n",
       "      <td>₹99</td>\n",
       "      <td>3.7</td>\n",
       "      <td>176</td>\n",
       "      <td>95</td>\n",
       "      <td>30 minutes</td>\n",
       "    </tr>\n",
       "    <tr>\n",
       "      <th>4</th>\n",
       "      <td>ID_6123</td>\n",
       "      <td>Rmz Centennial, I Gate, Whitefield</td>\n",
       "      <td>Cafe, Beverages</td>\n",
       "      <td>₹200</td>\n",
       "      <td>₹99</td>\n",
       "      <td>3.2</td>\n",
       "      <td>521</td>\n",
       "      <td>235</td>\n",
       "      <td>65 minutes</td>\n",
       "    </tr>\n",
       "  </tbody>\n",
       "</table>\n",
       "</div>"
      ],
      "text/plain": [
       "  Restaurant                             Location  \\\n",
       "0    ID_6321  FTI College, Law College Road, Pune   \n",
       "1    ID_2882                 Sector 3, Marathalli   \n",
       "2    ID_1595                       Mumbai Central   \n",
       "3    ID_5929                      Sector 1, Noida   \n",
       "4    ID_6123   Rmz Centennial, I Gate, Whitefield   \n",
       "\n",
       "                                 Cuisines Average_Cost Minimum_Order Rating  \\\n",
       "0  Fast Food, Rolls, Burger, Salad, Wraps         ₹200           ₹50    3.5   \n",
       "1                     Ice Cream, Desserts         ₹100           ₹50    3.5   \n",
       "2         Italian, Street Food, Fast Food         ₹150           ₹50    3.6   \n",
       "3          Mughlai, North Indian, Chinese         ₹250           ₹99    3.7   \n",
       "4                         Cafe, Beverages         ₹200           ₹99    3.2   \n",
       "\n",
       "  Votes Reviews Delivery_Time  \n",
       "0    12       4    30 minutes  \n",
       "1    11       4    30 minutes  \n",
       "2    99      30    65 minutes  \n",
       "3   176      95    30 minutes  \n",
       "4   521     235    65 minutes  "
      ]
     },
     "execution_count": 15,
     "metadata": {},
     "output_type": "execute_result"
    }
   ],
   "source": [
    "train.head()"
   ]
  },
  {
   "cell_type": "code",
   "execution_count": 16,
   "metadata": {},
   "outputs": [
    {
     "data": {
      "text/plain": [
       "array(['₹200', '₹100', '₹150', '₹250', '₹650', '₹350', '₹800', '₹50',\n",
       "       '₹400', '₹600', '₹300', '₹750', '₹450', '₹550', '₹1,000', '₹500',\n",
       "       '₹900', '₹1,200', '₹950', '₹850', '₹700', '₹1,150', 'for',\n",
       "       '₹1,100', '₹1,400', '₹2,050'], dtype=object)"
      ]
     },
     "execution_count": 16,
     "metadata": {},
     "output_type": "execute_result"
    }
   ],
   "source": [
    "#Finding the unique values in Average_Cost\n",
    "train['Average_Cost'].unique()"
   ]
  },
  {
   "cell_type": "markdown",
   "metadata": {},
   "source": [
    "The Average_Cost has an invalid value in one of its rows. We will replace it with 200 which is the most frequent value in the column.(Check the train.describe() method). We will add 200 as a string and not as an integer as the column is of type object and all its values are strings."
   ]
  },
  {
   "cell_type": "code",
   "execution_count": 17,
   "metadata": {},
   "outputs": [
    {
     "data": {
      "text/html": [
       "<div>\n",
       "<style scoped>\n",
       "    .dataframe tbody tr th:only-of-type {\n",
       "        vertical-align: middle;\n",
       "    }\n",
       "\n",
       "    .dataframe tbody tr th {\n",
       "        vertical-align: top;\n",
       "    }\n",
       "\n",
       "    .dataframe thead th {\n",
       "        text-align: right;\n",
       "    }\n",
       "</style>\n",
       "<table border=\"1\" class=\"dataframe\">\n",
       "  <thead>\n",
       "    <tr style=\"text-align: right;\">\n",
       "      <th></th>\n",
       "      <th>Restaurant</th>\n",
       "      <th>Location</th>\n",
       "      <th>Cuisines</th>\n",
       "      <th>Average_Cost</th>\n",
       "      <th>Minimum_Order</th>\n",
       "      <th>Rating</th>\n",
       "      <th>Votes</th>\n",
       "      <th>Reviews</th>\n",
       "      <th>Delivery_Time</th>\n",
       "    </tr>\n",
       "  </thead>\n",
       "  <tbody>\n",
       "    <tr>\n",
       "      <th>6297</th>\n",
       "      <td>ID_6472</td>\n",
       "      <td>Pune University</td>\n",
       "      <td>Fast Food</td>\n",
       "      <td>for</td>\n",
       "      <td>₹50</td>\n",
       "      <td>NEW</td>\n",
       "      <td>-</td>\n",
       "      <td>-</td>\n",
       "      <td>30 minutes</td>\n",
       "    </tr>\n",
       "  </tbody>\n",
       "</table>\n",
       "</div>"
      ],
      "text/plain": [
       "     Restaurant         Location   Cuisines Average_Cost Minimum_Order Rating  \\\n",
       "6297    ID_6472  Pune University  Fast Food          for           ₹50    NEW   \n",
       "\n",
       "     Votes Reviews Delivery_Time  \n",
       "6297     -       -    30 minutes  "
      ]
     },
     "execution_count": 17,
     "metadata": {},
     "output_type": "execute_result"
    }
   ],
   "source": [
    "\n",
    "train[train['Average_Cost'] == 'for']"
   ]
  },
  {
   "cell_type": "code",
   "execution_count": 18,
   "metadata": {},
   "outputs": [],
   "source": [
    "\n",
    "#replacing 'for' with 200\n",
    "train['Average_Cost'].replace('for', '200', inplace = True)"
   ]
  },
  {
   "cell_type": "markdown",
   "metadata": {},
   "source": [
    "Now we will clean all the values and will convert it in to integer."
   ]
  },
  {
   "cell_type": "code",
   "execution_count": 19,
   "metadata": {},
   "outputs": [],
   "source": [
    "train['Average_Cost_Cleaned'] = train['Average_Cost'].apply(lambda x: int(re.sub(\"[^0-9]\", \"\", x)))"
   ]
  },
  {
   "cell_type": "code",
   "execution_count": 20,
   "metadata": {},
   "outputs": [
    {
     "data": {
      "text/plain": [
       "array([ 200,  100,  150,  250,  650,  350,  800,   50,  400,  600,  300,\n",
       "        750,  450,  550, 1000,  500,  900, 1200,  950,  850,  700, 1150,\n",
       "       1100, 1400, 2050], dtype=int64)"
      ]
     },
     "execution_count": 20,
     "metadata": {},
     "output_type": "execute_result"
    }
   ],
   "source": [
    "\n",
    "train['Average_Cost_Cleaned'].unique()"
   ]
  },
  {
   "cell_type": "markdown",
   "metadata": {},
   "source": [
    "We can see that all the special characters ahave been removed and strings have been converted to integers."
   ]
  },
  {
   "cell_type": "markdown",
   "metadata": {},
   "source": [
    "Let's perform the same operations on the test set"
   ]
  },
  {
   "cell_type": "code",
   "execution_count": 21,
   "metadata": {},
   "outputs": [
    {
     "data": {
      "text/plain": [
       "array(['₹350', '₹100', '₹200', '₹150', '₹300', '₹50', '₹250', '₹500',\n",
       "       '₹650', '₹400', '₹550', '₹450', '₹600', '₹750', '₹850', '₹1,000',\n",
       "       '₹700', '₹800', '₹1,200'], dtype=object)"
      ]
     },
     "execution_count": 21,
     "metadata": {},
     "output_type": "execute_result"
    }
   ],
   "source": [
    "\n",
    "test['Average_Cost'].unique()"
   ]
  },
  {
   "cell_type": "code",
   "execution_count": 22,
   "metadata": {},
   "outputs": [],
   "source": [
    "\n",
    "test['Average_Cost_Cleaned'] = test['Average_Cost'].apply(lambda x: int(re.sub(\"[^0-9]\", \"\", x)))"
   ]
  },
  {
   "cell_type": "code",
   "execution_count": 23,
   "metadata": {},
   "outputs": [
    {
     "data": {
      "text/plain": [
       "array([ 350,  100,  200,  150,  300,   50,  250,  500,  650,  400,  550,\n",
       "        450,  600,  750,  850, 1000,  700,  800, 1200], dtype=int64)"
      ]
     },
     "execution_count": 23,
     "metadata": {},
     "output_type": "execute_result"
    }
   ],
   "source": [
    "test['Average_Cost_Cleaned'].unique()"
   ]
  },
  {
   "cell_type": "markdown",
   "metadata": {},
   "source": [
    "\n",
    "Now lets do the same for Minimum_Order column"
   ]
  },
  {
   "cell_type": "code",
   "execution_count": 24,
   "metadata": {},
   "outputs": [
    {
     "data": {
      "text/plain": [
       "array(['₹50', '₹99', '₹0', '₹200', '₹450', '₹350', '₹79', '₹400', '₹199',\n",
       "       '₹500', '₹250', '₹150', '₹90', '₹299', '₹300', '₹240', '₹89',\n",
       "       '₹59'], dtype=object)"
      ]
     },
     "execution_count": 24,
     "metadata": {},
     "output_type": "execute_result"
    }
   ],
   "source": [
    "\n",
    "train['Minimum_Order'].unique()"
   ]
  },
  {
   "cell_type": "code",
   "execution_count": 25,
   "metadata": {},
   "outputs": [],
   "source": [
    "\n",
    "train['Minimum_Order_Cleaned'] = train['Minimum_Order'].apply(lambda x: int(re.sub(\"[^0-9]\", \"\", x)))"
   ]
  },
  {
   "cell_type": "code",
   "execution_count": 26,
   "metadata": {},
   "outputs": [
    {
     "data": {
      "text/plain": [
       "array(['₹50', '₹99', '₹500', '₹0', '₹200', '₹149', '₹199', '₹399', '₹89'],\n",
       "      dtype=object)"
      ]
     },
     "execution_count": 26,
     "metadata": {},
     "output_type": "execute_result"
    }
   ],
   "source": [
    "\n",
    "test['Minimum_Order'].unique()"
   ]
  },
  {
   "cell_type": "code",
   "execution_count": 27,
   "metadata": {},
   "outputs": [],
   "source": [
    "test['Minimum_Order_Cleaned'] = test['Minimum_Order'].apply(lambda x: int(re.sub(\"[^0-9]\", \"\", x)))"
   ]
  },
  {
   "cell_type": "code",
   "execution_count": 28,
   "metadata": {},
   "outputs": [
    {
     "data": {
      "text/html": [
       "<div>\n",
       "<style scoped>\n",
       "    .dataframe tbody tr th:only-of-type {\n",
       "        vertical-align: middle;\n",
       "    }\n",
       "\n",
       "    .dataframe tbody tr th {\n",
       "        vertical-align: top;\n",
       "    }\n",
       "\n",
       "    .dataframe thead th {\n",
       "        text-align: right;\n",
       "    }\n",
       "</style>\n",
       "<table border=\"1\" class=\"dataframe\">\n",
       "  <thead>\n",
       "    <tr style=\"text-align: right;\">\n",
       "      <th></th>\n",
       "      <th>Restaurant</th>\n",
       "      <th>Location</th>\n",
       "      <th>Cuisines</th>\n",
       "      <th>Average_Cost</th>\n",
       "      <th>Minimum_Order</th>\n",
       "      <th>Rating</th>\n",
       "      <th>Votes</th>\n",
       "      <th>Reviews</th>\n",
       "      <th>Delivery_Time</th>\n",
       "      <th>Average_Cost_Cleaned</th>\n",
       "      <th>Minimum_Order_Cleaned</th>\n",
       "    </tr>\n",
       "  </thead>\n",
       "  <tbody>\n",
       "    <tr>\n",
       "      <th>0</th>\n",
       "      <td>ID_6321</td>\n",
       "      <td>FTI College, Law College Road, Pune</td>\n",
       "      <td>Fast Food, Rolls, Burger, Salad, Wraps</td>\n",
       "      <td>₹200</td>\n",
       "      <td>₹50</td>\n",
       "      <td>3.5</td>\n",
       "      <td>12</td>\n",
       "      <td>4</td>\n",
       "      <td>30 minutes</td>\n",
       "      <td>200</td>\n",
       "      <td>50</td>\n",
       "    </tr>\n",
       "    <tr>\n",
       "      <th>1</th>\n",
       "      <td>ID_2882</td>\n",
       "      <td>Sector 3, Marathalli</td>\n",
       "      <td>Ice Cream, Desserts</td>\n",
       "      <td>₹100</td>\n",
       "      <td>₹50</td>\n",
       "      <td>3.5</td>\n",
       "      <td>11</td>\n",
       "      <td>4</td>\n",
       "      <td>30 minutes</td>\n",
       "      <td>100</td>\n",
       "      <td>50</td>\n",
       "    </tr>\n",
       "    <tr>\n",
       "      <th>2</th>\n",
       "      <td>ID_1595</td>\n",
       "      <td>Mumbai Central</td>\n",
       "      <td>Italian, Street Food, Fast Food</td>\n",
       "      <td>₹150</td>\n",
       "      <td>₹50</td>\n",
       "      <td>3.6</td>\n",
       "      <td>99</td>\n",
       "      <td>30</td>\n",
       "      <td>65 minutes</td>\n",
       "      <td>150</td>\n",
       "      <td>50</td>\n",
       "    </tr>\n",
       "    <tr>\n",
       "      <th>3</th>\n",
       "      <td>ID_5929</td>\n",
       "      <td>Sector 1, Noida</td>\n",
       "      <td>Mughlai, North Indian, Chinese</td>\n",
       "      <td>₹250</td>\n",
       "      <td>₹99</td>\n",
       "      <td>3.7</td>\n",
       "      <td>176</td>\n",
       "      <td>95</td>\n",
       "      <td>30 minutes</td>\n",
       "      <td>250</td>\n",
       "      <td>99</td>\n",
       "    </tr>\n",
       "    <tr>\n",
       "      <th>4</th>\n",
       "      <td>ID_6123</td>\n",
       "      <td>Rmz Centennial, I Gate, Whitefield</td>\n",
       "      <td>Cafe, Beverages</td>\n",
       "      <td>₹200</td>\n",
       "      <td>₹99</td>\n",
       "      <td>3.2</td>\n",
       "      <td>521</td>\n",
       "      <td>235</td>\n",
       "      <td>65 minutes</td>\n",
       "      <td>200</td>\n",
       "      <td>99</td>\n",
       "    </tr>\n",
       "  </tbody>\n",
       "</table>\n",
       "</div>"
      ],
      "text/plain": [
       "  Restaurant                             Location  \\\n",
       "0    ID_6321  FTI College, Law College Road, Pune   \n",
       "1    ID_2882                 Sector 3, Marathalli   \n",
       "2    ID_1595                       Mumbai Central   \n",
       "3    ID_5929                      Sector 1, Noida   \n",
       "4    ID_6123   Rmz Centennial, I Gate, Whitefield   \n",
       "\n",
       "                                 Cuisines Average_Cost Minimum_Order Rating  \\\n",
       "0  Fast Food, Rolls, Burger, Salad, Wraps         ₹200           ₹50    3.5   \n",
       "1                     Ice Cream, Desserts         ₹100           ₹50    3.5   \n",
       "2         Italian, Street Food, Fast Food         ₹150           ₹50    3.6   \n",
       "3          Mughlai, North Indian, Chinese         ₹250           ₹99    3.7   \n",
       "4                         Cafe, Beverages         ₹200           ₹99    3.2   \n",
       "\n",
       "  Votes Reviews Delivery_Time  Average_Cost_Cleaned  Minimum_Order_Cleaned  \n",
       "0    12       4    30 minutes                   200                     50  \n",
       "1    11       4    30 minutes                   100                     50  \n",
       "2    99      30    65 minutes                   150                     50  \n",
       "3   176      95    30 minutes                   250                     99  \n",
       "4   521     235    65 minutes                   200                     99  "
      ]
     },
     "execution_count": 28,
     "metadata": {},
     "output_type": "execute_result"
    }
   ],
   "source": [
    "train.head()"
   ]
  },
  {
   "cell_type": "markdown",
   "metadata": {},
   "source": [
    "Location & CUISINES"
   ]
  },
  {
   "cell_type": "markdown",
   "metadata": {},
   "source": [
    "Location and Cuisines are categorical variables that need to be encoded later. By looking at the dataset, we can see that each of these columns have multiple values in them. We can use each of them as a feature by splitting each column into n number of features. To do that we will first find the maximum number(n) of features a column has in the entire dataset including both test and train data. Once the maximum number of features within a cell is found, we will split all the rows in the dataset for that specific column into n features."
   ]
  },
  {
   "cell_type": "code",
   "execution_count": 29,
   "metadata": {},
   "outputs": [],
   "source": [
    "#A function to find the maximun number of features in a single cell\n",
    "def max_features_in_single_row(train, test, delimiter):\n",
    "  max_info = 0 \n",
    "  item_lis = list(train.append(test))\n",
    "  for i in item_lis:\n",
    "    if len(i.split(\"{}\".format(delimiter))) > max_info:\n",
    "      max_info = len(i.split(\"{}\".format(delimiter)))\n",
    "  print(\"\\n\",\"-\"*35)    \n",
    "  print(\"Max_Features in One Observation = \", max_info)\n",
    "  return max_info"
   ]
  },
  {
   "cell_type": "code",
   "execution_count": 30,
   "metadata": {},
   "outputs": [],
   "source": [
    "#This function splits a column in to n features where n is the maximum number of features in a single cell\n",
    "def feature_splitter(feat, name, delimiter, max_info):\n",
    "  item_lis = list(feat)\n",
    "  extracted_features = {}\n",
    "  for i in range(max_info):\n",
    "    extracted_features['{}_Feature_{}'.format(name, i+1)] = []\n",
    "  print(\"-\"*35)\n",
    "  print(\"Features Dictionary : \", extracted_features)\n",
    "  #tqdm is a graphics module that helps us see the progress bar\n",
    "  for i in tqdm(range(len(item_lis))):\n",
    "    for j in range(max_info):  \n",
    "      try:\n",
    "        extracted_features['{}_Feature_{}'.format(name,j+1)].append(item_lis[i].split(\"{}\".format(delimiter))[j].lower().strip())\n",
    "      except: \n",
    "        extracted_features['{}_Feature_{}'.format(name, j+1)].append(np.nan)\n",
    "\n",
    "  return extracted_features"
   ]
  },
  {
   "cell_type": "code",
   "execution_count": 31,
   "metadata": {},
   "outputs": [
    {
     "name": "stdout",
     "output_type": "stream",
     "text": [
      "\n",
      " -----------------------------------\n",
      "Max_Features in One Observation =  4\n",
      "-----------------------------------\n",
      "Features Dictionary :  {'Location_Feature_1': [], 'Location_Feature_2': [], 'Location_Feature_3': [], 'Location_Feature_4': []}\n"
     ]
    },
    {
     "name": "stderr",
     "output_type": "stream",
     "text": [
      "100%|██████████| 11094/11094 [00:00<00:00, 65316.23it/s]\n"
     ]
    },
    {
     "name": "stdout",
     "output_type": "stream",
     "text": [
      "-----------------------------------\n",
      "Features Dictionary :  {'Location_Feature_1': [], 'Location_Feature_2': [], 'Location_Feature_3': [], 'Location_Feature_4': []}\n"
     ]
    },
    {
     "name": "stderr",
     "output_type": "stream",
     "text": [
      "100%|██████████| 2774/2774 [00:00<00:00, 62965.40it/s]\n"
     ]
    }
   ],
   "source": [
    "\n",
    "#Splitting Location\n",
    "loc_max = max_features_in_single_row(test['Location'],train['Location'], ',')\n",
    "train_Location_splits = feature_splitter(train['Location'], 'Location', ',', loc_max)\n",
    "test_Location_splits = feature_splitter(test['Location'], 'Location', ',', loc_max)"
   ]
  },
  {
   "cell_type": "code",
   "execution_count": 32,
   "metadata": {},
   "outputs": [
    {
     "name": "stdout",
     "output_type": "stream",
     "text": [
      "\n",
      " -----------------------------------\n",
      "Max_Features in One Observation =  8\n",
      "-----------------------------------\n",
      "Features Dictionary :  {'Cuisines_Feature_1': [], 'Cuisines_Feature_2': [], 'Cuisines_Feature_3': [], 'Cuisines_Feature_4': [], 'Cuisines_Feature_5': [], 'Cuisines_Feature_6': [], 'Cuisines_Feature_7': [], 'Cuisines_Feature_8': []}\n"
     ]
    },
    {
     "name": "stderr",
     "output_type": "stream",
     "text": [
      "100%|██████████| 11094/11094 [00:00<00:00, 38847.98it/s]\n"
     ]
    },
    {
     "name": "stdout",
     "output_type": "stream",
     "text": [
      "-----------------------------------\n",
      "Features Dictionary :  {'Cuisines_Feature_1': [], 'Cuisines_Feature_2': [], 'Cuisines_Feature_3': [], 'Cuisines_Feature_4': [], 'Cuisines_Feature_5': [], 'Cuisines_Feature_6': [], 'Cuisines_Feature_7': [], 'Cuisines_Feature_8': []}\n"
     ]
    },
    {
     "name": "stderr",
     "output_type": "stream",
     "text": [
      "100%|██████████| 2774/2774 [00:00<00:00, 43279.98it/s]\n"
     ]
    }
   ],
   "source": [
    "#Splitting Cuisines\n",
    "cus_max = max_features_in_single_row(test['Cuisines'],train['Cuisines'], ',')\n",
    "train_Cuisines_splits = feature_splitter(train['Cuisines'], 'Cuisines', ',', cus_max)\n",
    "test_Cuisines_splits = feature_splitter(test['Cuisines'], 'Cuisines', ',', cus_max)"
   ]
  },
  {
   "cell_type": "markdown",
   "metadata": {},
   "source": [
    "Rating, Votes & Reviews"
   ]
  },
  {
   "cell_type": "markdown",
   "metadata": {},
   "source": [
    "We will now clean Rating, Votes & Reviews columns to remove invalid values and to convert them to the right type."
   ]
  },
  {
   "cell_type": "code",
   "execution_count": 33,
   "metadata": {},
   "outputs": [
    {
     "data": {
      "text/html": [
       "<div>\n",
       "<style scoped>\n",
       "    .dataframe tbody tr th:only-of-type {\n",
       "        vertical-align: middle;\n",
       "    }\n",
       "\n",
       "    .dataframe tbody tr th {\n",
       "        vertical-align: top;\n",
       "    }\n",
       "\n",
       "    .dataframe thead th {\n",
       "        text-align: right;\n",
       "    }\n",
       "</style>\n",
       "<table border=\"1\" class=\"dataframe\">\n",
       "  <thead>\n",
       "    <tr style=\"text-align: right;\">\n",
       "      <th></th>\n",
       "      <th>Restaurant</th>\n",
       "      <th>Location</th>\n",
       "      <th>Cuisines</th>\n",
       "      <th>Average_Cost</th>\n",
       "      <th>Minimum_Order</th>\n",
       "      <th>Rating</th>\n",
       "      <th>Votes</th>\n",
       "      <th>Reviews</th>\n",
       "      <th>Delivery_Time</th>\n",
       "      <th>Average_Cost_Cleaned</th>\n",
       "      <th>Minimum_Order_Cleaned</th>\n",
       "    </tr>\n",
       "  </thead>\n",
       "  <tbody>\n",
       "    <tr>\n",
       "      <th>count</th>\n",
       "      <td>11094</td>\n",
       "      <td>11094</td>\n",
       "      <td>11094</td>\n",
       "      <td>11094</td>\n",
       "      <td>11094</td>\n",
       "      <td>11094</td>\n",
       "      <td>11094</td>\n",
       "      <td>11094</td>\n",
       "      <td>11094</td>\n",
       "      <td>11094.000000</td>\n",
       "      <td>11094.000000</td>\n",
       "    </tr>\n",
       "    <tr>\n",
       "      <th>unique</th>\n",
       "      <td>7480</td>\n",
       "      <td>35</td>\n",
       "      <td>2179</td>\n",
       "      <td>26</td>\n",
       "      <td>18</td>\n",
       "      <td>33</td>\n",
       "      <td>1103</td>\n",
       "      <td>761</td>\n",
       "      <td>7</td>\n",
       "      <td>NaN</td>\n",
       "      <td>NaN</td>\n",
       "    </tr>\n",
       "    <tr>\n",
       "      <th>top</th>\n",
       "      <td>ID_7184</td>\n",
       "      <td>Mico Layout, Stage 2, BTM Layout,Bangalore</td>\n",
       "      <td>North Indian</td>\n",
       "      <td>₹200</td>\n",
       "      <td>₹50</td>\n",
       "      <td>-</td>\n",
       "      <td>-</td>\n",
       "      <td>-</td>\n",
       "      <td>30 minutes</td>\n",
       "      <td>NaN</td>\n",
       "      <td>NaN</td>\n",
       "    </tr>\n",
       "    <tr>\n",
       "      <th>freq</th>\n",
       "      <td>22</td>\n",
       "      <td>947</td>\n",
       "      <td>850</td>\n",
       "      <td>3241</td>\n",
       "      <td>10118</td>\n",
       "      <td>1191</td>\n",
       "      <td>2074</td>\n",
       "      <td>2312</td>\n",
       "      <td>7406</td>\n",
       "      <td>NaN</td>\n",
       "      <td>NaN</td>\n",
       "    </tr>\n",
       "    <tr>\n",
       "      <th>mean</th>\n",
       "      <td>NaN</td>\n",
       "      <td>NaN</td>\n",
       "      <td>NaN</td>\n",
       "      <td>NaN</td>\n",
       "      <td>NaN</td>\n",
       "      <td>NaN</td>\n",
       "      <td>NaN</td>\n",
       "      <td>NaN</td>\n",
       "      <td>NaN</td>\n",
       "      <td>202.708671</td>\n",
       "      <td>53.344511</td>\n",
       "    </tr>\n",
       "    <tr>\n",
       "      <th>std</th>\n",
       "      <td>NaN</td>\n",
       "      <td>NaN</td>\n",
       "      <td>NaN</td>\n",
       "      <td>NaN</td>\n",
       "      <td>NaN</td>\n",
       "      <td>NaN</td>\n",
       "      <td>NaN</td>\n",
       "      <td>NaN</td>\n",
       "      <td>NaN</td>\n",
       "      <td>129.833261</td>\n",
       "      <td>18.551245</td>\n",
       "    </tr>\n",
       "    <tr>\n",
       "      <th>min</th>\n",
       "      <td>NaN</td>\n",
       "      <td>NaN</td>\n",
       "      <td>NaN</td>\n",
       "      <td>NaN</td>\n",
       "      <td>NaN</td>\n",
       "      <td>NaN</td>\n",
       "      <td>NaN</td>\n",
       "      <td>NaN</td>\n",
       "      <td>NaN</td>\n",
       "      <td>50.000000</td>\n",
       "      <td>0.000000</td>\n",
       "    </tr>\n",
       "    <tr>\n",
       "      <th>25%</th>\n",
       "      <td>NaN</td>\n",
       "      <td>NaN</td>\n",
       "      <td>NaN</td>\n",
       "      <td>NaN</td>\n",
       "      <td>NaN</td>\n",
       "      <td>NaN</td>\n",
       "      <td>NaN</td>\n",
       "      <td>NaN</td>\n",
       "      <td>NaN</td>\n",
       "      <td>100.000000</td>\n",
       "      <td>50.000000</td>\n",
       "    </tr>\n",
       "    <tr>\n",
       "      <th>50%</th>\n",
       "      <td>NaN</td>\n",
       "      <td>NaN</td>\n",
       "      <td>NaN</td>\n",
       "      <td>NaN</td>\n",
       "      <td>NaN</td>\n",
       "      <td>NaN</td>\n",
       "      <td>NaN</td>\n",
       "      <td>NaN</td>\n",
       "      <td>NaN</td>\n",
       "      <td>200.000000</td>\n",
       "      <td>50.000000</td>\n",
       "    </tr>\n",
       "    <tr>\n",
       "      <th>75%</th>\n",
       "      <td>NaN</td>\n",
       "      <td>NaN</td>\n",
       "      <td>NaN</td>\n",
       "      <td>NaN</td>\n",
       "      <td>NaN</td>\n",
       "      <td>NaN</td>\n",
       "      <td>NaN</td>\n",
       "      <td>NaN</td>\n",
       "      <td>NaN</td>\n",
       "      <td>200.000000</td>\n",
       "      <td>50.000000</td>\n",
       "    </tr>\n",
       "    <tr>\n",
       "      <th>max</th>\n",
       "      <td>NaN</td>\n",
       "      <td>NaN</td>\n",
       "      <td>NaN</td>\n",
       "      <td>NaN</td>\n",
       "      <td>NaN</td>\n",
       "      <td>NaN</td>\n",
       "      <td>NaN</td>\n",
       "      <td>NaN</td>\n",
       "      <td>NaN</td>\n",
       "      <td>2050.000000</td>\n",
       "      <td>500.000000</td>\n",
       "    </tr>\n",
       "  </tbody>\n",
       "</table>\n",
       "</div>"
      ],
      "text/plain": [
       "       Restaurant                                    Location      Cuisines  \\\n",
       "count       11094                                       11094         11094   \n",
       "unique       7480                                          35          2179   \n",
       "top       ID_7184  Mico Layout, Stage 2, BTM Layout,Bangalore  North Indian   \n",
       "freq           22                                         947           850   \n",
       "mean          NaN                                         NaN           NaN   \n",
       "std           NaN                                         NaN           NaN   \n",
       "min           NaN                                         NaN           NaN   \n",
       "25%           NaN                                         NaN           NaN   \n",
       "50%           NaN                                         NaN           NaN   \n",
       "75%           NaN                                         NaN           NaN   \n",
       "max           NaN                                         NaN           NaN   \n",
       "\n",
       "       Average_Cost Minimum_Order Rating  Votes Reviews Delivery_Time  \\\n",
       "count         11094         11094  11094  11094   11094         11094   \n",
       "unique           26            18     33   1103     761             7   \n",
       "top            ₹200           ₹50      -      -       -    30 minutes   \n",
       "freq           3241         10118   1191   2074    2312          7406   \n",
       "mean            NaN           NaN    NaN    NaN     NaN           NaN   \n",
       "std             NaN           NaN    NaN    NaN     NaN           NaN   \n",
       "min             NaN           NaN    NaN    NaN     NaN           NaN   \n",
       "25%             NaN           NaN    NaN    NaN     NaN           NaN   \n",
       "50%             NaN           NaN    NaN    NaN     NaN           NaN   \n",
       "75%             NaN           NaN    NaN    NaN     NaN           NaN   \n",
       "max             NaN           NaN    NaN    NaN     NaN           NaN   \n",
       "\n",
       "        Average_Cost_Cleaned  Minimum_Order_Cleaned  \n",
       "count           11094.000000           11094.000000  \n",
       "unique                   NaN                    NaN  \n",
       "top                      NaN                    NaN  \n",
       "freq                     NaN                    NaN  \n",
       "mean              202.708671              53.344511  \n",
       "std               129.833261              18.551245  \n",
       "min                50.000000               0.000000  \n",
       "25%               100.000000              50.000000  \n",
       "50%               200.000000              50.000000  \n",
       "75%               200.000000              50.000000  \n",
       "max              2050.000000             500.000000  "
      ]
     },
     "execution_count": 33,
     "metadata": {},
     "output_type": "execute_result"
    }
   ],
   "source": [
    "\n",
    "train.describe(include = 'all')"
   ]
  },
  {
   "cell_type": "code",
   "execution_count": 34,
   "metadata": {},
   "outputs": [],
   "source": [
    "#A function to find all the non numeric values\n",
    "def non_numerals(series):\n",
    "  non_numerals = []\n",
    "  for i in series.unique():\n",
    "    try :\n",
    "      i = float(i)\n",
    "    except:\n",
    "      non_numerals.append(i)\n",
    "  return non_numerals"
   ]
  },
  {
   "cell_type": "code",
   "execution_count": 35,
   "metadata": {},
   "outputs": [],
   "source": [
    "# A function to replace the non-numeric values\n",
    "def replace_nn_with(series, type_, fill_with = None, method = 'mean'):\n",
    "\n",
    "  nn = non_numerals(series)\n",
    "  print('-'*30)\n",
    "  print('-'*30)\n",
    "  print(\"Non Numerals in column \",series.name,\" : \",nn)\n",
    "\n",
    "  series = series.replace(nn, np.nan, inplace = False)\n",
    "  nulls = series.isnull().sum()\n",
    "  if fill_with:\n",
    "    series.fillna(fill_with, inplace = True)\n",
    "    print(\"Filling Non Numerals with {}\".format(fill_with))\n",
    "  \n",
    "  else:\n",
    "    series = series.replace(nn, np.nan, inplace = False)\n",
    "\n",
    "    if method == 'mean' :\n",
    "      rep = series.astype(float).mean()\n",
    "      print(\"Filling Non Numerals with MEAN = \", rep)\n",
    "\n",
    "    elif method == 'median' :\n",
    "      rep = series.astype(float).median()\n",
    "      print(\"Filling Non Numerals with MEDIAN = \", rep)\n",
    "\n",
    "    elif method == 'min' :\n",
    "      rep = series.astype(float).min()\n",
    "      print(\"Filling Non Numerals with MINIMUM = \", rep)\n",
    "\n",
    "    else:\n",
    "      print('Please pass a valid method as a string -- (\"mean\" or \"median\" or \"min\")')\n",
    "      return 0\n",
    "\n",
    "    series.fillna(rep, inplace = True)\n",
    "    \n",
    "  try:\n",
    "    series = series.astype(type_)\n",
    "    print(nulls, \": observations replaced\")\n",
    "    return series\n",
    "  except:\n",
    "    # Since type conversion of a string containting decimals to int is not possible, it is first converted to float\n",
    "    series =  series.astype(float)\n",
    "    print(nulls, \": observations replaced\")\n",
    "    series =  series.astype(type_)\n",
    "    return series"
   ]
  },
  {
   "cell_type": "code",
   "execution_count": 36,
   "metadata": {},
   "outputs": [
    {
     "data": {
      "text/html": [
       "<div>\n",
       "<style scoped>\n",
       "    .dataframe tbody tr th:only-of-type {\n",
       "        vertical-align: middle;\n",
       "    }\n",
       "\n",
       "    .dataframe tbody tr th {\n",
       "        vertical-align: top;\n",
       "    }\n",
       "\n",
       "    .dataframe thead th {\n",
       "        text-align: right;\n",
       "    }\n",
       "</style>\n",
       "<table border=\"1\" class=\"dataframe\">\n",
       "  <thead>\n",
       "    <tr style=\"text-align: right;\">\n",
       "      <th></th>\n",
       "      <th>Restaurant</th>\n",
       "      <th>Location</th>\n",
       "      <th>Cuisines</th>\n",
       "      <th>Average_Cost</th>\n",
       "      <th>Minimum_Order</th>\n",
       "      <th>Rating</th>\n",
       "      <th>Votes</th>\n",
       "      <th>Reviews</th>\n",
       "      <th>Delivery_Time</th>\n",
       "      <th>Average_Cost_Cleaned</th>\n",
       "      <th>Minimum_Order_Cleaned</th>\n",
       "    </tr>\n",
       "  </thead>\n",
       "  <tbody>\n",
       "    <tr>\n",
       "      <th>0</th>\n",
       "      <td>ID_6321</td>\n",
       "      <td>FTI College, Law College Road, Pune</td>\n",
       "      <td>Fast Food, Rolls, Burger, Salad, Wraps</td>\n",
       "      <td>₹200</td>\n",
       "      <td>₹50</td>\n",
       "      <td>3.5</td>\n",
       "      <td>12</td>\n",
       "      <td>4</td>\n",
       "      <td>30 minutes</td>\n",
       "      <td>200</td>\n",
       "      <td>50</td>\n",
       "    </tr>\n",
       "    <tr>\n",
       "      <th>1</th>\n",
       "      <td>ID_2882</td>\n",
       "      <td>Sector 3, Marathalli</td>\n",
       "      <td>Ice Cream, Desserts</td>\n",
       "      <td>₹100</td>\n",
       "      <td>₹50</td>\n",
       "      <td>3.5</td>\n",
       "      <td>11</td>\n",
       "      <td>4</td>\n",
       "      <td>30 minutes</td>\n",
       "      <td>100</td>\n",
       "      <td>50</td>\n",
       "    </tr>\n",
       "    <tr>\n",
       "      <th>2</th>\n",
       "      <td>ID_1595</td>\n",
       "      <td>Mumbai Central</td>\n",
       "      <td>Italian, Street Food, Fast Food</td>\n",
       "      <td>₹150</td>\n",
       "      <td>₹50</td>\n",
       "      <td>3.6</td>\n",
       "      <td>99</td>\n",
       "      <td>30</td>\n",
       "      <td>65 minutes</td>\n",
       "      <td>150</td>\n",
       "      <td>50</td>\n",
       "    </tr>\n",
       "    <tr>\n",
       "      <th>3</th>\n",
       "      <td>ID_5929</td>\n",
       "      <td>Sector 1, Noida</td>\n",
       "      <td>Mughlai, North Indian, Chinese</td>\n",
       "      <td>₹250</td>\n",
       "      <td>₹99</td>\n",
       "      <td>3.7</td>\n",
       "      <td>176</td>\n",
       "      <td>95</td>\n",
       "      <td>30 minutes</td>\n",
       "      <td>250</td>\n",
       "      <td>99</td>\n",
       "    </tr>\n",
       "    <tr>\n",
       "      <th>4</th>\n",
       "      <td>ID_6123</td>\n",
       "      <td>Rmz Centennial, I Gate, Whitefield</td>\n",
       "      <td>Cafe, Beverages</td>\n",
       "      <td>₹200</td>\n",
       "      <td>₹99</td>\n",
       "      <td>3.2</td>\n",
       "      <td>521</td>\n",
       "      <td>235</td>\n",
       "      <td>65 minutes</td>\n",
       "      <td>200</td>\n",
       "      <td>99</td>\n",
       "    </tr>\n",
       "    <tr>\n",
       "      <th>5</th>\n",
       "      <td>ID_5221</td>\n",
       "      <td>Rmz Centennial, I Gate, Whitefield</td>\n",
       "      <td>South Indian, North Indian, Chinese</td>\n",
       "      <td>₹150</td>\n",
       "      <td>₹50</td>\n",
       "      <td>3.8</td>\n",
       "      <td>46</td>\n",
       "      <td>18</td>\n",
       "      <td>30 minutes</td>\n",
       "      <td>150</td>\n",
       "      <td>50</td>\n",
       "    </tr>\n",
       "    <tr>\n",
       "      <th>6</th>\n",
       "      <td>ID_3777</td>\n",
       "      <td>Mumbai Central</td>\n",
       "      <td>Beverages, Fast Food</td>\n",
       "      <td>₹150</td>\n",
       "      <td>₹50</td>\n",
       "      <td>3.7</td>\n",
       "      <td>108</td>\n",
       "      <td>31</td>\n",
       "      <td>30 minutes</td>\n",
       "      <td>150</td>\n",
       "      <td>50</td>\n",
       "    </tr>\n",
       "    <tr>\n",
       "      <th>7</th>\n",
       "      <td>ID_745</td>\n",
       "      <td>Delhi University-GTB Nagar</td>\n",
       "      <td>Chinese, Thai, Asian</td>\n",
       "      <td>₹650</td>\n",
       "      <td>₹50</td>\n",
       "      <td>4.0</td>\n",
       "      <td>1731</td>\n",
       "      <td>1235</td>\n",
       "      <td>45 minutes</td>\n",
       "      <td>650</td>\n",
       "      <td>50</td>\n",
       "    </tr>\n",
       "    <tr>\n",
       "      <th>8</th>\n",
       "      <td>ID_2970</td>\n",
       "      <td>Delhi University-GTB Nagar</td>\n",
       "      <td>Mithai, Street Food</td>\n",
       "      <td>₹100</td>\n",
       "      <td>₹50</td>\n",
       "      <td>3.9</td>\n",
       "      <td>110</td>\n",
       "      <td>26</td>\n",
       "      <td>30 minutes</td>\n",
       "      <td>100</td>\n",
       "      <td>50</td>\n",
       "    </tr>\n",
       "    <tr>\n",
       "      <th>9</th>\n",
       "      <td>ID_3474</td>\n",
       "      <td>Sector 1, Noida</td>\n",
       "      <td>Fast Food, North Indian, Rolls, Chinese, Momos...</td>\n",
       "      <td>₹200</td>\n",
       "      <td>₹50</td>\n",
       "      <td>3.9</td>\n",
       "      <td>562</td>\n",
       "      <td>294</td>\n",
       "      <td>65 minutes</td>\n",
       "      <td>200</td>\n",
       "      <td>50</td>\n",
       "    </tr>\n",
       "  </tbody>\n",
       "</table>\n",
       "</div>"
      ],
      "text/plain": [
       "  Restaurant                             Location  \\\n",
       "0    ID_6321  FTI College, Law College Road, Pune   \n",
       "1    ID_2882                 Sector 3, Marathalli   \n",
       "2    ID_1595                       Mumbai Central   \n",
       "3    ID_5929                      Sector 1, Noida   \n",
       "4    ID_6123   Rmz Centennial, I Gate, Whitefield   \n",
       "5    ID_5221   Rmz Centennial, I Gate, Whitefield   \n",
       "6    ID_3777                       Mumbai Central   \n",
       "7     ID_745           Delhi University-GTB Nagar   \n",
       "8    ID_2970           Delhi University-GTB Nagar   \n",
       "9    ID_3474                      Sector 1, Noida   \n",
       "\n",
       "                                            Cuisines Average_Cost  \\\n",
       "0             Fast Food, Rolls, Burger, Salad, Wraps         ₹200   \n",
       "1                                Ice Cream, Desserts         ₹100   \n",
       "2                    Italian, Street Food, Fast Food         ₹150   \n",
       "3                     Mughlai, North Indian, Chinese         ₹250   \n",
       "4                                    Cafe, Beverages         ₹200   \n",
       "5                South Indian, North Indian, Chinese         ₹150   \n",
       "6                               Beverages, Fast Food         ₹150   \n",
       "7                               Chinese, Thai, Asian         ₹650   \n",
       "8                                Mithai, Street Food         ₹100   \n",
       "9  Fast Food, North Indian, Rolls, Chinese, Momos...         ₹200   \n",
       "\n",
       "  Minimum_Order Rating Votes Reviews Delivery_Time  Average_Cost_Cleaned  \\\n",
       "0           ₹50    3.5    12       4    30 minutes                   200   \n",
       "1           ₹50    3.5    11       4    30 minutes                   100   \n",
       "2           ₹50    3.6    99      30    65 minutes                   150   \n",
       "3           ₹99    3.7   176      95    30 minutes                   250   \n",
       "4           ₹99    3.2   521     235    65 minutes                   200   \n",
       "5           ₹50    3.8    46      18    30 minutes                   150   \n",
       "6           ₹50    3.7   108      31    30 minutes                   150   \n",
       "7           ₹50    4.0  1731    1235    45 minutes                   650   \n",
       "8           ₹50    3.9   110      26    30 minutes                   100   \n",
       "9           ₹50    3.9   562     294    65 minutes                   200   \n",
       "\n",
       "   Minimum_Order_Cleaned  \n",
       "0                     50  \n",
       "1                     50  \n",
       "2                     50  \n",
       "3                     99  \n",
       "4                     99  \n",
       "5                     50  \n",
       "6                     50  \n",
       "7                     50  \n",
       "8                     50  \n",
       "9                     50  "
      ]
     },
     "execution_count": 36,
     "metadata": {},
     "output_type": "execute_result"
    }
   ],
   "source": [
    "train.head(10)"
   ]
  },
  {
   "cell_type": "markdown",
   "metadata": {},
   "source": [
    "\n",
    "Lets Clean the columns"
   ]
  },
  {
   "cell_type": "code",
   "execution_count": 37,
   "metadata": {},
   "outputs": [
    {
     "name": "stdout",
     "output_type": "stream",
     "text": [
      "------------------------------\n",
      "------------------------------\n",
      "Non Numerals in column  Rating  :  ['-', 'NEW', 'Opening Soon', 'Temporarily Closed']\n",
      "Filling Non Numerals with MEAN =  3.6134596429744668\n",
      "1963 : observations replaced\n"
     ]
    }
   ],
   "source": [
    "train['Rating_Cleaned'] = replace_nn_with(train['Rating'],float, method = 'mean')"
   ]
  },
  {
   "cell_type": "code",
   "execution_count": 38,
   "metadata": {},
   "outputs": [
    {
     "data": {
      "text/html": [
       "<div>\n",
       "<style scoped>\n",
       "    .dataframe tbody tr th:only-of-type {\n",
       "        vertical-align: middle;\n",
       "    }\n",
       "\n",
       "    .dataframe tbody tr th {\n",
       "        vertical-align: top;\n",
       "    }\n",
       "\n",
       "    .dataframe thead th {\n",
       "        text-align: right;\n",
       "    }\n",
       "</style>\n",
       "<table border=\"1\" class=\"dataframe\">\n",
       "  <thead>\n",
       "    <tr style=\"text-align: right;\">\n",
       "      <th></th>\n",
       "      <th>Restaurant</th>\n",
       "      <th>Location</th>\n",
       "      <th>Cuisines</th>\n",
       "      <th>Average_Cost</th>\n",
       "      <th>Minimum_Order</th>\n",
       "      <th>Rating</th>\n",
       "      <th>Votes</th>\n",
       "      <th>Reviews</th>\n",
       "      <th>Delivery_Time</th>\n",
       "      <th>Average_Cost_Cleaned</th>\n",
       "      <th>Minimum_Order_Cleaned</th>\n",
       "      <th>Rating_Cleaned</th>\n",
       "    </tr>\n",
       "  </thead>\n",
       "  <tbody>\n",
       "    <tr>\n",
       "      <th>0</th>\n",
       "      <td>ID_6321</td>\n",
       "      <td>FTI College, Law College Road, Pune</td>\n",
       "      <td>Fast Food, Rolls, Burger, Salad, Wraps</td>\n",
       "      <td>₹200</td>\n",
       "      <td>₹50</td>\n",
       "      <td>3.5</td>\n",
       "      <td>12</td>\n",
       "      <td>4</td>\n",
       "      <td>30 minutes</td>\n",
       "      <td>200</td>\n",
       "      <td>50</td>\n",
       "      <td>3.5</td>\n",
       "    </tr>\n",
       "    <tr>\n",
       "      <th>1</th>\n",
       "      <td>ID_2882</td>\n",
       "      <td>Sector 3, Marathalli</td>\n",
       "      <td>Ice Cream, Desserts</td>\n",
       "      <td>₹100</td>\n",
       "      <td>₹50</td>\n",
       "      <td>3.5</td>\n",
       "      <td>11</td>\n",
       "      <td>4</td>\n",
       "      <td>30 minutes</td>\n",
       "      <td>100</td>\n",
       "      <td>50</td>\n",
       "      <td>3.5</td>\n",
       "    </tr>\n",
       "    <tr>\n",
       "      <th>2</th>\n",
       "      <td>ID_1595</td>\n",
       "      <td>Mumbai Central</td>\n",
       "      <td>Italian, Street Food, Fast Food</td>\n",
       "      <td>₹150</td>\n",
       "      <td>₹50</td>\n",
       "      <td>3.6</td>\n",
       "      <td>99</td>\n",
       "      <td>30</td>\n",
       "      <td>65 minutes</td>\n",
       "      <td>150</td>\n",
       "      <td>50</td>\n",
       "      <td>3.6</td>\n",
       "    </tr>\n",
       "    <tr>\n",
       "      <th>3</th>\n",
       "      <td>ID_5929</td>\n",
       "      <td>Sector 1, Noida</td>\n",
       "      <td>Mughlai, North Indian, Chinese</td>\n",
       "      <td>₹250</td>\n",
       "      <td>₹99</td>\n",
       "      <td>3.7</td>\n",
       "      <td>176</td>\n",
       "      <td>95</td>\n",
       "      <td>30 minutes</td>\n",
       "      <td>250</td>\n",
       "      <td>99</td>\n",
       "      <td>3.7</td>\n",
       "    </tr>\n",
       "    <tr>\n",
       "      <th>4</th>\n",
       "      <td>ID_6123</td>\n",
       "      <td>Rmz Centennial, I Gate, Whitefield</td>\n",
       "      <td>Cafe, Beverages</td>\n",
       "      <td>₹200</td>\n",
       "      <td>₹99</td>\n",
       "      <td>3.2</td>\n",
       "      <td>521</td>\n",
       "      <td>235</td>\n",
       "      <td>65 minutes</td>\n",
       "      <td>200</td>\n",
       "      <td>99</td>\n",
       "      <td>3.2</td>\n",
       "    </tr>\n",
       "    <tr>\n",
       "      <th>5</th>\n",
       "      <td>ID_5221</td>\n",
       "      <td>Rmz Centennial, I Gate, Whitefield</td>\n",
       "      <td>South Indian, North Indian, Chinese</td>\n",
       "      <td>₹150</td>\n",
       "      <td>₹50</td>\n",
       "      <td>3.8</td>\n",
       "      <td>46</td>\n",
       "      <td>18</td>\n",
       "      <td>30 minutes</td>\n",
       "      <td>150</td>\n",
       "      <td>50</td>\n",
       "      <td>3.8</td>\n",
       "    </tr>\n",
       "    <tr>\n",
       "      <th>6</th>\n",
       "      <td>ID_3777</td>\n",
       "      <td>Mumbai Central</td>\n",
       "      <td>Beverages, Fast Food</td>\n",
       "      <td>₹150</td>\n",
       "      <td>₹50</td>\n",
       "      <td>3.7</td>\n",
       "      <td>108</td>\n",
       "      <td>31</td>\n",
       "      <td>30 minutes</td>\n",
       "      <td>150</td>\n",
       "      <td>50</td>\n",
       "      <td>3.7</td>\n",
       "    </tr>\n",
       "    <tr>\n",
       "      <th>7</th>\n",
       "      <td>ID_745</td>\n",
       "      <td>Delhi University-GTB Nagar</td>\n",
       "      <td>Chinese, Thai, Asian</td>\n",
       "      <td>₹650</td>\n",
       "      <td>₹50</td>\n",
       "      <td>4.0</td>\n",
       "      <td>1731</td>\n",
       "      <td>1235</td>\n",
       "      <td>45 minutes</td>\n",
       "      <td>650</td>\n",
       "      <td>50</td>\n",
       "      <td>4.0</td>\n",
       "    </tr>\n",
       "    <tr>\n",
       "      <th>8</th>\n",
       "      <td>ID_2970</td>\n",
       "      <td>Delhi University-GTB Nagar</td>\n",
       "      <td>Mithai, Street Food</td>\n",
       "      <td>₹100</td>\n",
       "      <td>₹50</td>\n",
       "      <td>3.9</td>\n",
       "      <td>110</td>\n",
       "      <td>26</td>\n",
       "      <td>30 minutes</td>\n",
       "      <td>100</td>\n",
       "      <td>50</td>\n",
       "      <td>3.9</td>\n",
       "    </tr>\n",
       "    <tr>\n",
       "      <th>9</th>\n",
       "      <td>ID_3474</td>\n",
       "      <td>Sector 1, Noida</td>\n",
       "      <td>Fast Food, North Indian, Rolls, Chinese, Momos...</td>\n",
       "      <td>₹200</td>\n",
       "      <td>₹50</td>\n",
       "      <td>3.9</td>\n",
       "      <td>562</td>\n",
       "      <td>294</td>\n",
       "      <td>65 minutes</td>\n",
       "      <td>200</td>\n",
       "      <td>50</td>\n",
       "      <td>3.9</td>\n",
       "    </tr>\n",
       "  </tbody>\n",
       "</table>\n",
       "</div>"
      ],
      "text/plain": [
       "  Restaurant                             Location  \\\n",
       "0    ID_6321  FTI College, Law College Road, Pune   \n",
       "1    ID_2882                 Sector 3, Marathalli   \n",
       "2    ID_1595                       Mumbai Central   \n",
       "3    ID_5929                      Sector 1, Noida   \n",
       "4    ID_6123   Rmz Centennial, I Gate, Whitefield   \n",
       "5    ID_5221   Rmz Centennial, I Gate, Whitefield   \n",
       "6    ID_3777                       Mumbai Central   \n",
       "7     ID_745           Delhi University-GTB Nagar   \n",
       "8    ID_2970           Delhi University-GTB Nagar   \n",
       "9    ID_3474                      Sector 1, Noida   \n",
       "\n",
       "                                            Cuisines Average_Cost  \\\n",
       "0             Fast Food, Rolls, Burger, Salad, Wraps         ₹200   \n",
       "1                                Ice Cream, Desserts         ₹100   \n",
       "2                    Italian, Street Food, Fast Food         ₹150   \n",
       "3                     Mughlai, North Indian, Chinese         ₹250   \n",
       "4                                    Cafe, Beverages         ₹200   \n",
       "5                South Indian, North Indian, Chinese         ₹150   \n",
       "6                               Beverages, Fast Food         ₹150   \n",
       "7                               Chinese, Thai, Asian         ₹650   \n",
       "8                                Mithai, Street Food         ₹100   \n",
       "9  Fast Food, North Indian, Rolls, Chinese, Momos...         ₹200   \n",
       "\n",
       "  Minimum_Order Rating Votes Reviews Delivery_Time  Average_Cost_Cleaned  \\\n",
       "0           ₹50    3.5    12       4    30 minutes                   200   \n",
       "1           ₹50    3.5    11       4    30 minutes                   100   \n",
       "2           ₹50    3.6    99      30    65 minutes                   150   \n",
       "3           ₹99    3.7   176      95    30 minutes                   250   \n",
       "4           ₹99    3.2   521     235    65 minutes                   200   \n",
       "5           ₹50    3.8    46      18    30 minutes                   150   \n",
       "6           ₹50    3.7   108      31    30 minutes                   150   \n",
       "7           ₹50    4.0  1731    1235    45 minutes                   650   \n",
       "8           ₹50    3.9   110      26    30 minutes                   100   \n",
       "9           ₹50    3.9   562     294    65 minutes                   200   \n",
       "\n",
       "   Minimum_Order_Cleaned  Rating_Cleaned  \n",
       "0                     50             3.5  \n",
       "1                     50             3.5  \n",
       "2                     50             3.6  \n",
       "3                     99             3.7  \n",
       "4                     99             3.2  \n",
       "5                     50             3.8  \n",
       "6                     50             3.7  \n",
       "7                     50             4.0  \n",
       "8                     50             3.9  \n",
       "9                     50             3.9  "
      ]
     },
     "execution_count": 38,
     "metadata": {},
     "output_type": "execute_result"
    }
   ],
   "source": [
    "train.head(10)"
   ]
  },
  {
   "cell_type": "code",
   "execution_count": 39,
   "metadata": {},
   "outputs": [
    {
     "name": "stdout",
     "output_type": "stream",
     "text": [
      "------------------------------\n",
      "------------------------------\n",
      "Non Numerals in column  Rating  :  ['NEW', '-', 'Opening Soon']\n",
      "Filling Non Numerals with 3.6134596429744668\n",
      "507 : observations replaced\n"
     ]
    }
   ],
   "source": [
    "test['Rating_Cleaned'] = replace_nn_with(test['Rating'],float, fill_with = 3.6134596429744668)"
   ]
  },
  {
   "cell_type": "code",
   "execution_count": 40,
   "metadata": {},
   "outputs": [
    {
     "name": "stdout",
     "output_type": "stream",
     "text": [
      "------------------------------\n",
      "------------------------------\n",
      "Non Numerals in column  Votes  :  ['-']\n",
      "Filling Non Numerals with MEAN =  244.54445676274943\n",
      "2074 : observations replaced\n"
     ]
    }
   ],
   "source": [
    "train['Votes_Cleaned'] = replace_nn_with(train['Votes'],int,method =  'mean')\n"
   ]
  },
  {
   "cell_type": "code",
   "execution_count": 41,
   "metadata": {},
   "outputs": [
    {
     "name": "stdout",
     "output_type": "stream",
     "text": [
      "------------------------------\n",
      "------------------------------\n",
      "Non Numerals in column  Votes  :  ['-']\n",
      "Filling Non Numerals with 244.54445676274943\n",
      "542 : observations replaced\n"
     ]
    }
   ],
   "source": [
    "\n",
    "test['Votes_Cleaned'] = replace_nn_with(test['Votes'],int,fill_with = 244.54445676274943)"
   ]
  },
  {
   "cell_type": "code",
   "execution_count": 42,
   "metadata": {},
   "outputs": [
    {
     "name": "stdout",
     "output_type": "stream",
     "text": [
      "------------------------------\n",
      "------------------------------\n",
      "Non Numerals in column  Reviews  :  ['-']\n",
      "Filling Non Numerals with MEAN =  123.24789341835573\n",
      "2312 : observations replaced\n"
     ]
    }
   ],
   "source": [
    "train['Reviews_Cleaned'] = replace_nn_with(train['Reviews'],int, method =  'mean')"
   ]
  },
  {
   "cell_type": "code",
   "execution_count": 43,
   "metadata": {},
   "outputs": [
    {
     "name": "stdout",
     "output_type": "stream",
     "text": [
      "------------------------------\n",
      "------------------------------\n",
      "Non Numerals in column  Reviews  :  ['-']\n",
      "Filling Non Numerals with 123.247893\n",
      "593 : observations replaced\n"
     ]
    }
   ],
   "source": [
    "\n",
    "test['Reviews_Cleaned'] = replace_nn_with(test['Reviews'],int, method =  'mean',fill_with = 123.247893 )"
   ]
  },
  {
   "cell_type": "code",
   "execution_count": 44,
   "metadata": {},
   "outputs": [
    {
     "data": {
      "text/html": [
       "<div>\n",
       "<style scoped>\n",
       "    .dataframe tbody tr th:only-of-type {\n",
       "        vertical-align: middle;\n",
       "    }\n",
       "\n",
       "    .dataframe tbody tr th {\n",
       "        vertical-align: top;\n",
       "    }\n",
       "\n",
       "    .dataframe thead th {\n",
       "        text-align: right;\n",
       "    }\n",
       "</style>\n",
       "<table border=\"1\" class=\"dataframe\">\n",
       "  <thead>\n",
       "    <tr style=\"text-align: right;\">\n",
       "      <th></th>\n",
       "      <th>Restaurant</th>\n",
       "      <th>Location</th>\n",
       "      <th>Cuisines</th>\n",
       "      <th>Average_Cost</th>\n",
       "      <th>Minimum_Order</th>\n",
       "      <th>Rating</th>\n",
       "      <th>Votes</th>\n",
       "      <th>Reviews</th>\n",
       "      <th>Delivery_Time</th>\n",
       "      <th>Average_Cost_Cleaned</th>\n",
       "      <th>Minimum_Order_Cleaned</th>\n",
       "      <th>Rating_Cleaned</th>\n",
       "      <th>Votes_Cleaned</th>\n",
       "      <th>Reviews_Cleaned</th>\n",
       "    </tr>\n",
       "  </thead>\n",
       "  <tbody>\n",
       "    <tr>\n",
       "      <th>0</th>\n",
       "      <td>ID_6321</td>\n",
       "      <td>FTI College, Law College Road, Pune</td>\n",
       "      <td>Fast Food, Rolls, Burger, Salad, Wraps</td>\n",
       "      <td>₹200</td>\n",
       "      <td>₹50</td>\n",
       "      <td>3.5</td>\n",
       "      <td>12</td>\n",
       "      <td>4</td>\n",
       "      <td>30 minutes</td>\n",
       "      <td>200</td>\n",
       "      <td>50</td>\n",
       "      <td>3.5</td>\n",
       "      <td>12</td>\n",
       "      <td>4</td>\n",
       "    </tr>\n",
       "    <tr>\n",
       "      <th>1</th>\n",
       "      <td>ID_2882</td>\n",
       "      <td>Sector 3, Marathalli</td>\n",
       "      <td>Ice Cream, Desserts</td>\n",
       "      <td>₹100</td>\n",
       "      <td>₹50</td>\n",
       "      <td>3.5</td>\n",
       "      <td>11</td>\n",
       "      <td>4</td>\n",
       "      <td>30 minutes</td>\n",
       "      <td>100</td>\n",
       "      <td>50</td>\n",
       "      <td>3.5</td>\n",
       "      <td>11</td>\n",
       "      <td>4</td>\n",
       "    </tr>\n",
       "    <tr>\n",
       "      <th>2</th>\n",
       "      <td>ID_1595</td>\n",
       "      <td>Mumbai Central</td>\n",
       "      <td>Italian, Street Food, Fast Food</td>\n",
       "      <td>₹150</td>\n",
       "      <td>₹50</td>\n",
       "      <td>3.6</td>\n",
       "      <td>99</td>\n",
       "      <td>30</td>\n",
       "      <td>65 minutes</td>\n",
       "      <td>150</td>\n",
       "      <td>50</td>\n",
       "      <td>3.6</td>\n",
       "      <td>99</td>\n",
       "      <td>30</td>\n",
       "    </tr>\n",
       "    <tr>\n",
       "      <th>3</th>\n",
       "      <td>ID_5929</td>\n",
       "      <td>Sector 1, Noida</td>\n",
       "      <td>Mughlai, North Indian, Chinese</td>\n",
       "      <td>₹250</td>\n",
       "      <td>₹99</td>\n",
       "      <td>3.7</td>\n",
       "      <td>176</td>\n",
       "      <td>95</td>\n",
       "      <td>30 minutes</td>\n",
       "      <td>250</td>\n",
       "      <td>99</td>\n",
       "      <td>3.7</td>\n",
       "      <td>176</td>\n",
       "      <td>95</td>\n",
       "    </tr>\n",
       "    <tr>\n",
       "      <th>4</th>\n",
       "      <td>ID_6123</td>\n",
       "      <td>Rmz Centennial, I Gate, Whitefield</td>\n",
       "      <td>Cafe, Beverages</td>\n",
       "      <td>₹200</td>\n",
       "      <td>₹99</td>\n",
       "      <td>3.2</td>\n",
       "      <td>521</td>\n",
       "      <td>235</td>\n",
       "      <td>65 minutes</td>\n",
       "      <td>200</td>\n",
       "      <td>99</td>\n",
       "      <td>3.2</td>\n",
       "      <td>521</td>\n",
       "      <td>235</td>\n",
       "    </tr>\n",
       "  </tbody>\n",
       "</table>\n",
       "</div>"
      ],
      "text/plain": [
       "  Restaurant                             Location  \\\n",
       "0    ID_6321  FTI College, Law College Road, Pune   \n",
       "1    ID_2882                 Sector 3, Marathalli   \n",
       "2    ID_1595                       Mumbai Central   \n",
       "3    ID_5929                      Sector 1, Noida   \n",
       "4    ID_6123   Rmz Centennial, I Gate, Whitefield   \n",
       "\n",
       "                                 Cuisines Average_Cost Minimum_Order Rating  \\\n",
       "0  Fast Food, Rolls, Burger, Salad, Wraps         ₹200           ₹50    3.5   \n",
       "1                     Ice Cream, Desserts         ₹100           ₹50    3.5   \n",
       "2         Italian, Street Food, Fast Food         ₹150           ₹50    3.6   \n",
       "3          Mughlai, North Indian, Chinese         ₹250           ₹99    3.7   \n",
       "4                         Cafe, Beverages         ₹200           ₹99    3.2   \n",
       "\n",
       "  Votes Reviews Delivery_Time  Average_Cost_Cleaned  Minimum_Order_Cleaned  \\\n",
       "0    12       4    30 minutes                   200                     50   \n",
       "1    11       4    30 minutes                   100                     50   \n",
       "2    99      30    65 minutes                   150                     50   \n",
       "3   176      95    30 minutes                   250                     99   \n",
       "4   521     235    65 minutes                   200                     99   \n",
       "\n",
       "   Rating_Cleaned  Votes_Cleaned  Reviews_Cleaned  \n",
       "0             3.5             12                4  \n",
       "1             3.5             11                4  \n",
       "2             3.6             99               30  \n",
       "3             3.7            176               95  \n",
       "4             3.2            521              235  "
      ]
     },
     "execution_count": 44,
     "metadata": {},
     "output_type": "execute_result"
    }
   ],
   "source": [
    "train.head(5)"
   ]
  },
  {
   "cell_type": "code",
   "execution_count": 45,
   "metadata": {},
   "outputs": [
    {
     "data": {
      "text/plain": [
       "Index(['Restaurant', 'Location', 'Cuisines', 'Average_Cost', 'Minimum_Order',\n",
       "       'Rating', 'Votes', 'Reviews', 'Delivery_Time', 'Average_Cost_Cleaned',\n",
       "       'Minimum_Order_Cleaned', 'Rating_Cleaned', 'Votes_Cleaned',\n",
       "       'Reviews_Cleaned'],\n",
       "      dtype='object')"
      ]
     },
     "execution_count": 45,
     "metadata": {},
     "output_type": "execute_result"
    }
   ],
   "source": [
    "train.columns"
   ]
  },
  {
   "cell_type": "markdown",
   "metadata": {},
   "source": [
    "\n",
    "We are done with the cleaning part and now we will select only the columns we need for further stages."
   ]
  },
  {
   "cell_type": "code",
   "execution_count": 46,
   "metadata": {},
   "outputs": [],
   "source": [
    "cols = ['Restaurant',  'Average_Cost_Cleaned',\n",
    "       'Minimum_Order_Cleaned', 'Rating_Cleaned', 'Votes_Cleaned',\n",
    "       'Reviews_Cleaned','Delivery_Time' ]"
   ]
  },
  {
   "cell_type": "code",
   "execution_count": 47,
   "metadata": {},
   "outputs": [],
   "source": [
    "\n",
    "train_sample = train[cols]\n",
    "test_sample = test[cols[:-1]]"
   ]
  },
  {
   "cell_type": "markdown",
   "metadata": {},
   "source": [
    "We will now merge all the cleaned features to form a perfect dataframe"
   ]
  },
  {
   "cell_type": "code",
   "execution_count": 48,
   "metadata": {},
   "outputs": [],
   "source": [
    "\n",
    "train_sample = pd.concat([pd.DataFrame(train_Location_splits), pd.DataFrame(train_Cuisines_splits),train_sample],sort=False,axis = 1)\n",
    "test_sample = pd.concat([pd.DataFrame(test_Location_splits), pd.DataFrame(test_Cuisines_splits), test_sample],sort=False,axis = 1)"
   ]
  },
  {
   "cell_type": "code",
   "execution_count": 49,
   "metadata": {},
   "outputs": [
    {
     "data": {
      "text/plain": [
       "<seaborn.axisgrid.PairGrid at 0x1d12e42f748>"
      ]
     },
     "execution_count": 49,
     "metadata": {},
     "output_type": "execute_result"
    }
   ],
   "source": [
    "\n",
    "#lets take a look at the relation between the numeric features in the dataset\n",
    "import seaborn\n",
    "seaborn.pairplot(train_sample)"
   ]
  },
  {
   "cell_type": "code",
   "execution_count": 50,
   "metadata": {},
   "outputs": [
    {
     "data": {
      "text/plain": [
       "<seaborn.axisgrid.PairGrid at 0x1d12fc8d128>"
      ]
     },
     "execution_count": 50,
     "metadata": {},
     "output_type": "execute_result"
    },
    {
     "data": {
      "image/png": "[encoded data removed]",
      "text/plain": [
       "<Figure size 900x900 with 30 Axes>"
      ]
     },
     "metadata": {
      "needs_background": "light"
     },
     "output_type": "display_data"
    }
   ],
   "source": [
    "seaborn.pairplot(test_sample)"
   ]
  },
  {
   "cell_type": "markdown",
   "metadata": {},
   "source": [
    "# Data Preprocessing"
   ]
  },
  {
   "cell_type": "markdown",
   "metadata": {},
   "source": [
    "After cleaning, there are still some Data-Preparation tasks left. We still have some missing values that we allotted during the feature generation.\n",
    "\n",
    "In the Preprocessing stage we will perform the following :\n",
    "\n",
    "Dealing with Nulls/empty cells\n",
    "\n",
    "Encoding Categorical variables\n",
    "\n",
    "Scaling the features"
   ]
  },
  {
   "cell_type": "markdown",
   "metadata": {},
   "source": [
    "Removing Nulls"
   ]
  },
  {
   "cell_type": "code",
   "execution_count": 51,
   "metadata": {},
   "outputs": [
    {
     "data": {
      "text/plain": [
       "Location_Feature_1           0\n",
       "Location_Feature_2        1942\n",
       "Location_Feature_3        6364\n",
       "Location_Feature_4       10068\n",
       "Cuisines_Feature_1           0\n",
       "Cuisines_Feature_2        3012\n",
       "Cuisines_Feature_3        6931\n",
       "Cuisines_Feature_4        9393\n",
       "Cuisines_Feature_5       10449\n",
       "Cuisines_Feature_6       10854\n",
       "Cuisines_Feature_7       10978\n",
       "Cuisines_Feature_8       11046\n",
       "Restaurant                   0\n",
       "Average_Cost_Cleaned         0\n",
       "Minimum_Order_Cleaned        0\n",
       "Rating_Cleaned               0\n",
       "Votes_Cleaned                0\n",
       "Reviews_Cleaned              0\n",
       "Delivery_Time                0\n",
       "dtype: int64"
      ]
     },
     "execution_count": 51,
     "metadata": {},
     "output_type": "execute_result"
    }
   ],
   "source": [
    "train_sample.isnull().sum()"
   ]
  },
  {
   "cell_type": "code",
   "execution_count": 52,
   "metadata": {},
   "outputs": [
    {
     "data": {
      "text/html": [
       "<div>\n",
       "<style scoped>\n",
       "    .dataframe tbody tr th:only-of-type {\n",
       "        vertical-align: middle;\n",
       "    }\n",
       "\n",
       "    .dataframe tbody tr th {\n",
       "        vertical-align: top;\n",
       "    }\n",
       "\n",
       "    .dataframe thead th {\n",
       "        text-align: right;\n",
       "    }\n",
       "</style>\n",
       "<table border=\"1\" class=\"dataframe\">\n",
       "  <thead>\n",
       "    <tr style=\"text-align: right;\">\n",
       "      <th></th>\n",
       "      <th>Location_Feature_1</th>\n",
       "      <th>Location_Feature_2</th>\n",
       "      <th>Location_Feature_3</th>\n",
       "      <th>Location_Feature_4</th>\n",
       "      <th>Cuisines_Feature_1</th>\n",
       "      <th>Cuisines_Feature_2</th>\n",
       "      <th>Cuisines_Feature_3</th>\n",
       "      <th>Cuisines_Feature_4</th>\n",
       "      <th>Cuisines_Feature_5</th>\n",
       "      <th>Cuisines_Feature_6</th>\n",
       "      <th>Cuisines_Feature_7</th>\n",
       "      <th>Cuisines_Feature_8</th>\n",
       "      <th>Restaurant</th>\n",
       "      <th>Average_Cost_Cleaned</th>\n",
       "      <th>Minimum_Order_Cleaned</th>\n",
       "      <th>Rating_Cleaned</th>\n",
       "      <th>Votes_Cleaned</th>\n",
       "      <th>Reviews_Cleaned</th>\n",
       "      <th>Delivery_Time</th>\n",
       "    </tr>\n",
       "  </thead>\n",
       "  <tbody>\n",
       "    <tr>\n",
       "      <th>0</th>\n",
       "      <td>fti college</td>\n",
       "      <td>law college road</td>\n",
       "      <td>pune</td>\n",
       "      <td>NaN</td>\n",
       "      <td>fast food</td>\n",
       "      <td>rolls</td>\n",
       "      <td>burger</td>\n",
       "      <td>salad</td>\n",
       "      <td>wraps</td>\n",
       "      <td>NaN</td>\n",
       "      <td>NaN</td>\n",
       "      <td>NaN</td>\n",
       "      <td>ID_6321</td>\n",
       "      <td>200</td>\n",
       "      <td>50</td>\n",
       "      <td>3.5</td>\n",
       "      <td>12</td>\n",
       "      <td>4</td>\n",
       "      <td>30 minutes</td>\n",
       "    </tr>\n",
       "    <tr>\n",
       "      <th>1</th>\n",
       "      <td>sector 3</td>\n",
       "      <td>marathalli</td>\n",
       "      <td>NaN</td>\n",
       "      <td>NaN</td>\n",
       "      <td>ice cream</td>\n",
       "      <td>desserts</td>\n",
       "      <td>NaN</td>\n",
       "      <td>NaN</td>\n",
       "      <td>NaN</td>\n",
       "      <td>NaN</td>\n",
       "      <td>NaN</td>\n",
       "      <td>NaN</td>\n",
       "      <td>ID_2882</td>\n",
       "      <td>100</td>\n",
       "      <td>50</td>\n",
       "      <td>3.5</td>\n",
       "      <td>11</td>\n",
       "      <td>4</td>\n",
       "      <td>30 minutes</td>\n",
       "    </tr>\n",
       "    <tr>\n",
       "      <th>2</th>\n",
       "      <td>mumbai central</td>\n",
       "      <td>NaN</td>\n",
       "      <td>NaN</td>\n",
       "      <td>NaN</td>\n",
       "      <td>italian</td>\n",
       "      <td>street food</td>\n",
       "      <td>fast food</td>\n",
       "      <td>NaN</td>\n",
       "      <td>NaN</td>\n",
       "      <td>NaN</td>\n",
       "      <td>NaN</td>\n",
       "      <td>NaN</td>\n",
       "      <td>ID_1595</td>\n",
       "      <td>150</td>\n",
       "      <td>50</td>\n",
       "      <td>3.6</td>\n",
       "      <td>99</td>\n",
       "      <td>30</td>\n",
       "      <td>65 minutes</td>\n",
       "    </tr>\n",
       "    <tr>\n",
       "      <th>3</th>\n",
       "      <td>sector 1</td>\n",
       "      <td>noida</td>\n",
       "      <td>NaN</td>\n",
       "      <td>NaN</td>\n",
       "      <td>mughlai</td>\n",
       "      <td>north indian</td>\n",
       "      <td>chinese</td>\n",
       "      <td>NaN</td>\n",
       "      <td>NaN</td>\n",
       "      <td>NaN</td>\n",
       "      <td>NaN</td>\n",
       "      <td>NaN</td>\n",
       "      <td>ID_5929</td>\n",
       "      <td>250</td>\n",
       "      <td>99</td>\n",
       "      <td>3.7</td>\n",
       "      <td>176</td>\n",
       "      <td>95</td>\n",
       "      <td>30 minutes</td>\n",
       "    </tr>\n",
       "    <tr>\n",
       "      <th>4</th>\n",
       "      <td>rmz centennial</td>\n",
       "      <td>i gate</td>\n",
       "      <td>whitefield</td>\n",
       "      <td>NaN</td>\n",
       "      <td>cafe</td>\n",
       "      <td>beverages</td>\n",
       "      <td>NaN</td>\n",
       "      <td>NaN</td>\n",
       "      <td>NaN</td>\n",
       "      <td>NaN</td>\n",
       "      <td>NaN</td>\n",
       "      <td>NaN</td>\n",
       "      <td>ID_6123</td>\n",
       "      <td>200</td>\n",
       "      <td>99</td>\n",
       "      <td>3.2</td>\n",
       "      <td>521</td>\n",
       "      <td>235</td>\n",
       "      <td>65 minutes</td>\n",
       "    </tr>\n",
       "  </tbody>\n",
       "</table>\n",
       "</div>"
      ],
      "text/plain": [
       "  Location_Feature_1 Location_Feature_2 Location_Feature_3 Location_Feature_4  \\\n",
       "0        fti college   law college road               pune                NaN   \n",
       "1           sector 3         marathalli                NaN                NaN   \n",
       "2     mumbai central                NaN                NaN                NaN   \n",
       "3           sector 1              noida                NaN                NaN   \n",
       "4     rmz centennial             i gate         whitefield                NaN   \n",
       "\n",
       "  Cuisines_Feature_1 Cuisines_Feature_2 Cuisines_Feature_3 Cuisines_Feature_4  \\\n",
       "0          fast food              rolls             burger              salad   \n",
       "1          ice cream           desserts                NaN                NaN   \n",
       "2            italian        street food          fast food                NaN   \n",
       "3            mughlai       north indian            chinese                NaN   \n",
       "4               cafe          beverages                NaN                NaN   \n",
       "\n",
       "  Cuisines_Feature_5 Cuisines_Feature_6 Cuisines_Feature_7 Cuisines_Feature_8  \\\n",
       "0              wraps                NaN                NaN                NaN   \n",
       "1                NaN                NaN                NaN                NaN   \n",
       "2                NaN                NaN                NaN                NaN   \n",
       "3                NaN                NaN                NaN                NaN   \n",
       "4                NaN                NaN                NaN                NaN   \n",
       "\n",
       "  Restaurant  Average_Cost_Cleaned  Minimum_Order_Cleaned  Rating_Cleaned  \\\n",
       "0    ID_6321                   200                     50             3.5   \n",
       "1    ID_2882                   100                     50             3.5   \n",
       "2    ID_1595                   150                     50             3.6   \n",
       "3    ID_5929                   250                     99             3.7   \n",
       "4    ID_6123                   200                     99             3.2   \n",
       "\n",
       "   Votes_Cleaned  Reviews_Cleaned Delivery_Time  \n",
       "0             12                4    30 minutes  \n",
       "1             11                4    30 minutes  \n",
       "2             99               30    65 minutes  \n",
       "3            176               95    30 minutes  \n",
       "4            521              235    65 minutes  "
      ]
     },
     "execution_count": 52,
     "metadata": {},
     "output_type": "execute_result"
    }
   ],
   "source": [
    "train_sample.head()"
   ]
  },
  {
   "cell_type": "markdown",
   "metadata": {},
   "source": [
    "Since the nulls are present only in the categorical features, in this approach, to make it simple I will just replace all the NaNs with a string 'NAN' and will use it as a added category or class."
   ]
  },
  {
   "cell_type": "code",
   "execution_count": 53,
   "metadata": {},
   "outputs": [],
   "source": [
    "train_sample.fillna('NAN', inplace = True)"
   ]
  },
  {
   "cell_type": "code",
   "execution_count": 54,
   "metadata": {},
   "outputs": [
    {
     "data": {
      "text/plain": [
       "Location_Feature_1       0\n",
       "Location_Feature_2       0\n",
       "Location_Feature_3       0\n",
       "Location_Feature_4       0\n",
       "Cuisines_Feature_1       0\n",
       "Cuisines_Feature_2       0\n",
       "Cuisines_Feature_3       0\n",
       "Cuisines_Feature_4       0\n",
       "Cuisines_Feature_5       0\n",
       "Cuisines_Feature_6       0\n",
       "Cuisines_Feature_7       0\n",
       "Cuisines_Feature_8       0\n",
       "Restaurant               0\n",
       "Average_Cost_Cleaned     0\n",
       "Minimum_Order_Cleaned    0\n",
       "Rating_Cleaned           0\n",
       "Votes_Cleaned            0\n",
       "Reviews_Cleaned          0\n",
       "Delivery_Time            0\n",
       "dtype: int64"
      ]
     },
     "execution_count": 54,
     "metadata": {},
     "output_type": "execute_result"
    }
   ],
   "source": [
    "\n",
    "train_sample.isnull().sum()"
   ]
  },
  {
   "cell_type": "code",
   "execution_count": 55,
   "metadata": {},
   "outputs": [
    {
     "data": {
      "text/plain": [
       "Location_Feature_1       0\n",
       "Location_Feature_2       0\n",
       "Location_Feature_3       0\n",
       "Location_Feature_4       0\n",
       "Cuisines_Feature_1       0\n",
       "Cuisines_Feature_2       0\n",
       "Cuisines_Feature_3       0\n",
       "Cuisines_Feature_4       0\n",
       "Cuisines_Feature_5       0\n",
       "Cuisines_Feature_6       0\n",
       "Cuisines_Feature_7       0\n",
       "Cuisines_Feature_8       0\n",
       "Restaurant               0\n",
       "Average_Cost_Cleaned     0\n",
       "Minimum_Order_Cleaned    0\n",
       "Rating_Cleaned           0\n",
       "Votes_Cleaned            0\n",
       "Reviews_Cleaned          0\n",
       "Delivery_Time            0\n",
       "dtype: int64"
      ]
     },
     "execution_count": 55,
     "metadata": {},
     "output_type": "execute_result"
    }
   ],
   "source": [
    "train_sample.isnull().sum()"
   ]
  },
  {
   "cell_type": "code",
   "execution_count": 56,
   "metadata": {},
   "outputs": [],
   "source": [
    "test_sample.fillna('NAN', inplace = True)"
   ]
  },
  {
   "cell_type": "code",
   "execution_count": 57,
   "metadata": {},
   "outputs": [
    {
     "data": {
      "text/plain": [
       "Location_Feature_1       0\n",
       "Location_Feature_2       0\n",
       "Location_Feature_3       0\n",
       "Location_Feature_4       0\n",
       "Cuisines_Feature_1       0\n",
       "Cuisines_Feature_2       0\n",
       "Cuisines_Feature_3       0\n",
       "Cuisines_Feature_4       0\n",
       "Cuisines_Feature_5       0\n",
       "Cuisines_Feature_6       0\n",
       "Cuisines_Feature_7       0\n",
       "Cuisines_Feature_8       0\n",
       "Restaurant               0\n",
       "Average_Cost_Cleaned     0\n",
       "Minimum_Order_Cleaned    0\n",
       "Rating_Cleaned           0\n",
       "Votes_Cleaned            0\n",
       "Reviews_Cleaned          0\n",
       "Delivery_Time            0\n",
       "dtype: int64"
      ]
     },
     "execution_count": 57,
     "metadata": {},
     "output_type": "execute_result"
    }
   ],
   "source": [
    "train_sample.isnull().sum()"
   ]
  },
  {
   "cell_type": "markdown",
   "metadata": {},
   "source": [
    "# Encoding Categories"
   ]
  },
  {
   "cell_type": "markdown",
   "metadata": {},
   "source": [
    "Here we will use a simple Label Encoder to transform all the strings or categories."
   ]
  },
  {
   "cell_type": "markdown",
   "metadata": {},
   "source": [
    "Locations & Cuisines\n",
    "\n",
    "We will first find the unique values or categories in each of the categorical features and fit the label encoder with the unique values. The encoder eill assign an integer code to each of the categories which can be used to tranform the entire categorical feature column."
   ]
  },
  {
   "cell_type": "code",
   "execution_count": 58,
   "metadata": {},
   "outputs": [],
   "source": [
    "temp1 = []\n",
    "for i in train_Cuisines_splits.keys():\n",
    "  for j in train_Cuisines_splits.get(i):\n",
    "    temp1.append(j)\n",
    "\n",
    "temp2 = []\n",
    "for i in test_Cuisines_splits.keys():\n",
    "  for j in test_Cuisines_splits.get(i):\n",
    "    temp2.append(j)\n",
    "\n",
    "temp1.extend(temp2)\n",
    "\n",
    "unique_cuisines = list(pd.Series(temp1).unique())\n",
    "unique_cuisines.append('NAN')"
   ]
  },
  {
   "cell_type": "markdown",
   "metadata": {},
   "source": [
    "Note: We are also adding an extra category called NAN that we used to replace the NaN values."
   ]
  },
  {
   "cell_type": "code",
   "execution_count": 59,
   "metadata": {},
   "outputs": [
    {
     "data": {
      "text/plain": [
       "103"
      ]
     },
     "execution_count": 59,
     "metadata": {},
     "output_type": "execute_result"
    }
   ],
   "source": [
    "len(unique_cuisines)"
   ]
  },
  {
   "cell_type": "markdown",
   "metadata": {},
   "source": [
    "The location is a tricky feature. You can use external data to fill the missing data. For example, if the city is missing you can use the street name and try to find the City for the missing fields.\n",
    "\n",
    "For simplicity, here I have followed the same approach as I did for Cuisines which is not a perfect solution."
   ]
  },
  {
   "cell_type": "code",
   "execution_count": 60,
   "metadata": {},
   "outputs": [],
   "source": [
    "\n",
    "temp1 = []\n",
    "for i in train_Location_splits.keys():\n",
    "  for j in train_Location_splits.get(i):\n",
    "    temp1.append(j)\n",
    "\n",
    "temp2 = []\n",
    "for i in test_Location_splits.keys():\n",
    "  for j in test_Location_splits.get(i):\n",
    "    temp2.append(j)\n",
    "\n",
    "temp1.extend(temp2)\n",
    "\n",
    "unique_locations = list(pd.Series(temp1).unique())\n",
    "unique_locations.append('NAN')"
   ]
  },
  {
   "cell_type": "code",
   "execution_count": 61,
   "metadata": {},
   "outputs": [
    {
     "data": {
      "text/plain": [
       "67"
      ]
     },
     "execution_count": 61,
     "metadata": {},
     "output_type": "execute_result"
    }
   ],
   "source": [
    "len(unique_locations)"
   ]
  },
  {
   "cell_type": "code",
   "execution_count": 62,
   "metadata": {},
   "outputs": [],
   "source": [
    "#encoding the categorical Features\n",
    "from sklearn.preprocessing import LabelEncoder\n",
    "le_c = LabelEncoder().fit(unique_cuisines)\n",
    "le_l = LabelEncoder().fit(unique_locations)"
   ]
  },
  {
   "cell_type": "code",
   "execution_count": 63,
   "metadata": {},
   "outputs": [],
   "source": [
    "for i in train_Location_splits.keys():\n",
    "  train_sample[i] = le_l.transform(train_sample[i])"
   ]
  },
  {
   "cell_type": "code",
   "execution_count": 64,
   "metadata": {},
   "outputs": [],
   "source": [
    "for i in train_Cuisines_splits.keys():\n",
    "  train_sample[i] = le_c.transform(train_sample[i])"
   ]
  },
  {
   "cell_type": "code",
   "execution_count": 65,
   "metadata": {},
   "outputs": [],
   "source": [
    "\n",
    "for i in train_Location_splits.keys():\n",
    "  test_sample[i] = le_l.transform(test_sample[i])"
   ]
  },
  {
   "cell_type": "code",
   "execution_count": 66,
   "metadata": {},
   "outputs": [],
   "source": [
    "for i in test_Cuisines_splits.keys():\n",
    "  test_sample[i] = le_c.transform(test_sample[i])"
   ]
  },
  {
   "cell_type": "markdown",
   "metadata": {},
   "source": [
    "Restaurant IDs"
   ]
  },
  {
   "cell_type": "markdown",
   "metadata": {},
   "source": [
    "We will follow a similar approach for encoding the Restaurant IDs"
   ]
  },
  {
   "cell_type": "code",
   "execution_count": 67,
   "metadata": {},
   "outputs": [],
   "source": [
    "t1 = list(train_sample['Restaurant'])\n",
    "t2 = list(test_sample['Restaurant'])\n",
    "\n",
    "t1.extend(t2)\n",
    "unique_ids = list(set(t1))"
   ]
  },
  {
   "cell_type": "code",
   "execution_count": 68,
   "metadata": {},
   "outputs": [
    {
     "data": {
      "text/plain": [
       "8661"
      ]
     },
     "execution_count": 68,
     "metadata": {},
     "output_type": "execute_result"
    }
   ],
   "source": [
    "len(unique_ids)"
   ]
  },
  {
   "cell_type": "code",
   "execution_count": 69,
   "metadata": {},
   "outputs": [],
   "source": [
    "\n",
    "le_id = LabelEncoder().fit(unique_ids)"
   ]
  },
  {
   "cell_type": "code",
   "execution_count": 70,
   "metadata": {},
   "outputs": [],
   "source": [
    "train_sample['Restaurant'] = le_id.transform(train_sample['Restaurant'])\n",
    "test_sample['Restaurant'] = le_id.transform(test_sample['Restaurant'])"
   ]
  },
  {
   "cell_type": "markdown",
   "metadata": {},
   "source": [
    "# Scaling"
   ]
  },
  {
   "cell_type": "markdown",
   "metadata": {},
   "source": [
    "We will now normalize the data using the StandardScaler"
   ]
  },
  {
   "cell_type": "code",
   "execution_count": 71,
   "metadata": {},
   "outputs": [],
   "source": [
    "\n",
    "cols = list(train_sample.columns)"
   ]
  },
  {
   "cell_type": "code",
   "execution_count": 72,
   "metadata": {},
   "outputs": [],
   "source": [
    "from sklearn.preprocessing import StandardScaler\n",
    "ss = StandardScaler()"
   ]
  },
  {
   "cell_type": "code",
   "execution_count": 73,
   "metadata": {},
   "outputs": [],
   "source": [
    "\n",
    "train_sample[cols[:-1]] = ss.fit_transform(train_sample[cols[:-1]])"
   ]
  },
  {
   "cell_type": "code",
   "execution_count": 74,
   "metadata": {},
   "outputs": [],
   "source": [
    "test_sample[cols[:-1]] = ss.fit_transform(test_sample[cols[:-1]])"
   ]
  },
  {
   "cell_type": "code",
   "execution_count": 75,
   "metadata": {},
   "outputs": [
    {
     "data": {
      "text/html": [
       "<div>\n",
       "<style scoped>\n",
       "    .dataframe tbody tr th:only-of-type {\n",
       "        vertical-align: middle;\n",
       "    }\n",
       "\n",
       "    .dataframe tbody tr th {\n",
       "        vertical-align: top;\n",
       "    }\n",
       "\n",
       "    .dataframe thead th {\n",
       "        text-align: right;\n",
       "    }\n",
       "</style>\n",
       "<table border=\"1\" class=\"dataframe\">\n",
       "  <thead>\n",
       "    <tr style=\"text-align: right;\">\n",
       "      <th></th>\n",
       "      <th>Location_Feature_1</th>\n",
       "      <th>Location_Feature_2</th>\n",
       "      <th>Location_Feature_3</th>\n",
       "      <th>Location_Feature_4</th>\n",
       "      <th>Cuisines_Feature_1</th>\n",
       "      <th>Cuisines_Feature_2</th>\n",
       "      <th>Cuisines_Feature_3</th>\n",
       "      <th>Cuisines_Feature_4</th>\n",
       "      <th>Cuisines_Feature_5</th>\n",
       "      <th>Cuisines_Feature_6</th>\n",
       "      <th>Cuisines_Feature_7</th>\n",
       "      <th>Cuisines_Feature_8</th>\n",
       "      <th>Restaurant</th>\n",
       "      <th>Average_Cost_Cleaned</th>\n",
       "      <th>Minimum_Order_Cleaned</th>\n",
       "      <th>Rating_Cleaned</th>\n",
       "      <th>Votes_Cleaned</th>\n",
       "      <th>Reviews_Cleaned</th>\n",
       "      <th>Delivery_Time</th>\n",
       "    </tr>\n",
       "  </thead>\n",
       "  <tbody>\n",
       "    <tr>\n",
       "      <th>0</th>\n",
       "      <td>-0.867166</td>\n",
       "      <td>-0.408678</td>\n",
       "      <td>1.683093</td>\n",
       "      <td>-0.161374</td>\n",
       "      <td>-0.714599</td>\n",
       "      <td>1.656380</td>\n",
       "      <td>0.137213</td>\n",
       "      <td>3.865914</td>\n",
       "      <td>7.460013</td>\n",
       "      <td>-0.125106</td>\n",
       "      <td>-0.08579</td>\n",
       "      <td>-0.057042</td>\n",
       "      <td>0.625956</td>\n",
       "      <td>-0.020864</td>\n",
       "      <td>-0.180293</td>\n",
       "      <td>-0.301852</td>\n",
       "      <td>-0.464423</td>\n",
       "      <td>-0.417345</td>\n",
       "      <td>30 minutes</td>\n",
       "    </tr>\n",
       "    <tr>\n",
       "      <th>1</th>\n",
       "      <td>1.246323</td>\n",
       "      <td>-0.117669</td>\n",
       "      <td>-0.660441</td>\n",
       "      <td>-0.161374</td>\n",
       "      <td>-0.312564</td>\n",
       "      <td>-0.125757</td>\n",
       "      <td>-0.621557</td>\n",
       "      <td>-0.359765</td>\n",
       "      <td>-0.205249</td>\n",
       "      <td>-0.125106</td>\n",
       "      <td>-0.08579</td>\n",
       "      <td>-0.057042</td>\n",
       "      <td>-0.897145</td>\n",
       "      <td>-0.791117</td>\n",
       "      <td>-0.180293</td>\n",
       "      <td>-0.301852</td>\n",
       "      <td>-0.466421</td>\n",
       "      <td>-0.417345</td>\n",
       "      <td>30 minutes</td>\n",
       "    </tr>\n",
       "    <tr>\n",
       "      <th>2</th>\n",
       "      <td>0.242416</td>\n",
       "      <td>-1.669717</td>\n",
       "      <td>-0.660441</td>\n",
       "      <td>-0.161374</td>\n",
       "      <td>-0.129821</td>\n",
       "      <td>1.953402</td>\n",
       "      <td>0.534663</td>\n",
       "      <td>-0.359765</td>\n",
       "      <td>-0.205249</td>\n",
       "      <td>-0.125106</td>\n",
       "      <td>-0.08579</td>\n",
       "      <td>-0.057042</td>\n",
       "      <td>-1.467013</td>\n",
       "      <td>-0.405990</td>\n",
       "      <td>-0.180293</td>\n",
       "      <td>-0.035808</td>\n",
       "      <td>-0.290596</td>\n",
       "      <td>-0.326311</td>\n",
       "      <td>65 minutes</td>\n",
       "    </tr>\n",
       "    <tr>\n",
       "      <th>3</th>\n",
       "      <td>1.140649</td>\n",
       "      <td>0.415848</td>\n",
       "      <td>-0.660441</td>\n",
       "      <td>-0.161374</td>\n",
       "      <td>0.637700</td>\n",
       "      <td>1.326354</td>\n",
       "      <td>0.354004</td>\n",
       "      <td>-0.359765</td>\n",
       "      <td>-0.205249</td>\n",
       "      <td>-0.125106</td>\n",
       "      <td>-0.08579</td>\n",
       "      <td>-0.057042</td>\n",
       "      <td>0.451808</td>\n",
       "      <td>0.364263</td>\n",
       "      <td>2.461158</td>\n",
       "      <td>0.230235</td>\n",
       "      <td>-0.136749</td>\n",
       "      <td>-0.098724</td>\n",
       "      <td>30 minutes</td>\n",
       "    </tr>\n",
       "    <tr>\n",
       "      <th>4</th>\n",
       "      <td>0.982137</td>\n",
       "      <td>-0.602684</td>\n",
       "      <td>2.580618</td>\n",
       "      <td>-0.161374</td>\n",
       "      <td>-1.043537</td>\n",
       "      <td>-0.620795</td>\n",
       "      <td>-0.621557</td>\n",
       "      <td>-0.359765</td>\n",
       "      <td>-0.205249</td>\n",
       "      <td>-0.125106</td>\n",
       "      <td>-0.08579</td>\n",
       "      <td>-0.057042</td>\n",
       "      <td>0.538284</td>\n",
       "      <td>-0.020864</td>\n",
       "      <td>2.461158</td>\n",
       "      <td>-1.099981</td>\n",
       "      <td>0.552564</td>\n",
       "      <td>0.391462</td>\n",
       "      <td>65 minutes</td>\n",
       "    </tr>\n",
       "  </tbody>\n",
       "</table>\n",
       "</div>"
      ],
      "text/plain": [
       "   Location_Feature_1  Location_Feature_2  Location_Feature_3  \\\n",
       "0           -0.867166           -0.408678            1.683093   \n",
       "1            1.246323           -0.117669           -0.660441   \n",
       "2            0.242416           -1.669717           -0.660441   \n",
       "3            1.140649            0.415848           -0.660441   \n",
       "4            0.982137           -0.602684            2.580618   \n",
       "\n",
       "   Location_Feature_4  Cuisines_Feature_1  Cuisines_Feature_2  \\\n",
       "0           -0.161374           -0.714599            1.656380   \n",
       "1           -0.161374           -0.312564           -0.125757   \n",
       "2           -0.161374           -0.129821            1.953402   \n",
       "3           -0.161374            0.637700            1.326354   \n",
       "4           -0.161374           -1.043537           -0.620795   \n",
       "\n",
       "   Cuisines_Feature_3  Cuisines_Feature_4  Cuisines_Feature_5  \\\n",
       "0            0.137213            3.865914            7.460013   \n",
       "1           -0.621557           -0.359765           -0.205249   \n",
       "2            0.534663           -0.359765           -0.205249   \n",
       "3            0.354004           -0.359765           -0.205249   \n",
       "4           -0.621557           -0.359765           -0.205249   \n",
       "\n",
       "   Cuisines_Feature_6  Cuisines_Feature_7  Cuisines_Feature_8  Restaurant  \\\n",
       "0           -0.125106            -0.08579           -0.057042    0.625956   \n",
       "1           -0.125106            -0.08579           -0.057042   -0.897145   \n",
       "2           -0.125106            -0.08579           -0.057042   -1.467013   \n",
       "3           -0.125106            -0.08579           -0.057042    0.451808   \n",
       "4           -0.125106            -0.08579           -0.057042    0.538284   \n",
       "\n",
       "   Average_Cost_Cleaned  Minimum_Order_Cleaned  Rating_Cleaned  Votes_Cleaned  \\\n",
       "0             -0.020864              -0.180293       -0.301852      -0.464423   \n",
       "1             -0.791117              -0.180293       -0.301852      -0.466421   \n",
       "2             -0.405990              -0.180293       -0.035808      -0.290596   \n",
       "3              0.364263               2.461158        0.230235      -0.136749   \n",
       "4             -0.020864               2.461158       -1.099981       0.552564   \n",
       "\n",
       "   Reviews_Cleaned Delivery_Time  \n",
       "0        -0.417345    30 minutes  \n",
       "1        -0.417345    30 minutes  \n",
       "2        -0.326311    65 minutes  \n",
       "3        -0.098724    30 minutes  \n",
       "4         0.391462    65 minutes  "
      ]
     },
     "execution_count": 75,
     "metadata": {},
     "output_type": "execute_result"
    }
   ],
   "source": [
    "train_sample.head()"
   ]
  },
  {
   "cell_type": "code",
   "execution_count": 76,
   "metadata": {},
   "outputs": [
    {
     "data": {
      "text/html": [
       "<div>\n",
       "<style scoped>\n",
       "    .dataframe tbody tr th:only-of-type {\n",
       "        vertical-align: middle;\n",
       "    }\n",
       "\n",
       "    .dataframe tbody tr th {\n",
       "        vertical-align: top;\n",
       "    }\n",
       "\n",
       "    .dataframe thead th {\n",
       "        text-align: right;\n",
       "    }\n",
       "</style>\n",
       "<table border=\"1\" class=\"dataframe\">\n",
       "  <thead>\n",
       "    <tr style=\"text-align: right;\">\n",
       "      <th></th>\n",
       "      <th>Location_Feature_1</th>\n",
       "      <th>Location_Feature_2</th>\n",
       "      <th>Location_Feature_3</th>\n",
       "      <th>Location_Feature_4</th>\n",
       "      <th>Cuisines_Feature_1</th>\n",
       "      <th>Cuisines_Feature_2</th>\n",
       "      <th>Cuisines_Feature_3</th>\n",
       "      <th>Cuisines_Feature_4</th>\n",
       "      <th>Cuisines_Feature_5</th>\n",
       "      <th>Cuisines_Feature_6</th>\n",
       "      <th>Cuisines_Feature_7</th>\n",
       "      <th>Cuisines_Feature_8</th>\n",
       "      <th>Restaurant</th>\n",
       "      <th>Average_Cost_Cleaned</th>\n",
       "      <th>Minimum_Order_Cleaned</th>\n",
       "      <th>Rating_Cleaned</th>\n",
       "      <th>Votes_Cleaned</th>\n",
       "      <th>Reviews_Cleaned</th>\n",
       "    </tr>\n",
       "  </thead>\n",
       "  <tbody>\n",
       "    <tr>\n",
       "      <th>0</th>\n",
       "      <td>0.083713</td>\n",
       "      <td>1.243494</td>\n",
       "      <td>-0.479103</td>\n",
       "      <td>0.871523</td>\n",
       "      <td>0.809765</td>\n",
       "      <td>-0.204497</td>\n",
       "      <td>-0.346423</td>\n",
       "      <td>-0.351099</td>\n",
       "      <td>-0.196822</td>\n",
       "      <td>-0.12173</td>\n",
       "      <td>-0.082445</td>\n",
       "      <td>-0.042516</td>\n",
       "      <td>-0.897086</td>\n",
       "      <td>1.350471</td>\n",
       "      <td>-0.177278</td>\n",
       "      <td>1.612406</td>\n",
       "      <td>0.276837</td>\n",
       "      <td>0.428327</td>\n",
       "    </tr>\n",
       "    <tr>\n",
       "      <th>1</th>\n",
       "      <td>0.083713</td>\n",
       "      <td>1.243494</td>\n",
       "      <td>-0.479103</td>\n",
       "      <td>0.871523</td>\n",
       "      <td>-1.302905</td>\n",
       "      <td>0.628995</td>\n",
       "      <td>-0.605296</td>\n",
       "      <td>-0.351099</td>\n",
       "      <td>-0.196822</td>\n",
       "      <td>-0.12173</td>\n",
       "      <td>-0.082445</td>\n",
       "      <td>-0.042516</td>\n",
       "      <td>1.096904</td>\n",
       "      <td>-0.833142</td>\n",
       "      <td>-0.177278</td>\n",
       "      <td>0.029586</td>\n",
       "      <td>0.029087</td>\n",
       "      <td>0.035125</td>\n",
       "    </tr>\n",
       "    <tr>\n",
       "      <th>2</th>\n",
       "      <td>1.143599</td>\n",
       "      <td>0.416451</td>\n",
       "      <td>-0.673221</td>\n",
       "      <td>-0.151585</td>\n",
       "      <td>-0.746940</td>\n",
       "      <td>-1.104668</td>\n",
       "      <td>-0.605296</td>\n",
       "      <td>-0.351099</td>\n",
       "      <td>-0.196822</td>\n",
       "      <td>-0.12173</td>\n",
       "      <td>-0.082445</td>\n",
       "      <td>-0.042516</td>\n",
       "      <td>-0.101583</td>\n",
       "      <td>-0.833142</td>\n",
       "      <td>-0.177278</td>\n",
       "      <td>-0.006736</td>\n",
       "      <td>-0.411358</td>\n",
       "      <td>-0.377352</td>\n",
       "    </tr>\n",
       "    <tr>\n",
       "      <th>3</th>\n",
       "      <td>-1.665097</td>\n",
       "      <td>0.367801</td>\n",
       "      <td>-0.236455</td>\n",
       "      <td>-0.151585</td>\n",
       "      <td>0.513250</td>\n",
       "      <td>1.362467</td>\n",
       "      <td>0.393217</td>\n",
       "      <td>1.259565</td>\n",
       "      <td>7.241203</td>\n",
       "      <td>-0.12173</td>\n",
       "      <td>-0.082445</td>\n",
       "      <td>-0.042516</td>\n",
       "      <td>0.278454</td>\n",
       "      <td>0.040303</td>\n",
       "      <td>-0.177278</td>\n",
       "      <td>-0.006736</td>\n",
       "      <td>-0.347833</td>\n",
       "      <td>-0.311818</td>\n",
       "    </tr>\n",
       "    <tr>\n",
       "      <th>4</th>\n",
       "      <td>1.143599</td>\n",
       "      <td>0.416451</td>\n",
       "      <td>-0.673221</td>\n",
       "      <td>-0.151585</td>\n",
       "      <td>-0.932262</td>\n",
       "      <td>-0.037799</td>\n",
       "      <td>-0.605296</td>\n",
       "      <td>-0.351099</td>\n",
       "      <td>-0.196822</td>\n",
       "      <td>-0.12173</td>\n",
       "      <td>-0.082445</td>\n",
       "      <td>-0.042516</td>\n",
       "      <td>-0.715119</td>\n",
       "      <td>-0.396419</td>\n",
       "      <td>-0.177278</td>\n",
       "      <td>-1.895735</td>\n",
       "      <td>-0.407123</td>\n",
       "      <td>-0.385062</td>\n",
       "    </tr>\n",
       "  </tbody>\n",
       "</table>\n",
       "</div>"
      ],
      "text/plain": [
       "   Location_Feature_1  Location_Feature_2  Location_Feature_3  \\\n",
       "0            0.083713            1.243494           -0.479103   \n",
       "1            0.083713            1.243494           -0.479103   \n",
       "2            1.143599            0.416451           -0.673221   \n",
       "3           -1.665097            0.367801           -0.236455   \n",
       "4            1.143599            0.416451           -0.673221   \n",
       "\n",
       "   Location_Feature_4  Cuisines_Feature_1  Cuisines_Feature_2  \\\n",
       "0            0.871523            0.809765           -0.204497   \n",
       "1            0.871523           -1.302905            0.628995   \n",
       "2           -0.151585           -0.746940           -1.104668   \n",
       "3           -0.151585            0.513250            1.362467   \n",
       "4           -0.151585           -0.932262           -0.037799   \n",
       "\n",
       "   Cuisines_Feature_3  Cuisines_Feature_4  Cuisines_Feature_5  \\\n",
       "0           -0.346423           -0.351099           -0.196822   \n",
       "1           -0.605296           -0.351099           -0.196822   \n",
       "2           -0.605296           -0.351099           -0.196822   \n",
       "3            0.393217            1.259565            7.241203   \n",
       "4           -0.605296           -0.351099           -0.196822   \n",
       "\n",
       "   Cuisines_Feature_6  Cuisines_Feature_7  Cuisines_Feature_8  Restaurant  \\\n",
       "0            -0.12173           -0.082445           -0.042516   -0.897086   \n",
       "1            -0.12173           -0.082445           -0.042516    1.096904   \n",
       "2            -0.12173           -0.082445           -0.042516   -0.101583   \n",
       "3            -0.12173           -0.082445           -0.042516    0.278454   \n",
       "4            -0.12173           -0.082445           -0.042516   -0.715119   \n",
       "\n",
       "   Average_Cost_Cleaned  Minimum_Order_Cleaned  Rating_Cleaned  Votes_Cleaned  \\\n",
       "0              1.350471              -0.177278        1.612406       0.276837   \n",
       "1             -0.833142              -0.177278        0.029586       0.029087   \n",
       "2             -0.833142              -0.177278       -0.006736      -0.411358   \n",
       "3              0.040303              -0.177278       -0.006736      -0.347833   \n",
       "4             -0.396419              -0.177278       -1.895735      -0.407123   \n",
       "\n",
       "   Reviews_Cleaned  \n",
       "0         0.428327  \n",
       "1         0.035125  \n",
       "2        -0.377352  \n",
       "3        -0.311818  \n",
       "4        -0.385062  "
      ]
     },
     "execution_count": 76,
     "metadata": {},
     "output_type": "execute_result"
    }
   ],
   "source": [
    "test_sample.head()"
   ]
  },
  {
   "cell_type": "markdown",
   "metadata": {},
   "source": [
    "\n",
    "# Modeling"
   ]
  },
  {
   "cell_type": "markdown",
   "metadata": {},
   "source": [
    "Finally, we are ready for modeling. We will split the training set into training and validation sets.\n",
    "\n",
    "We will then use the training set to train and validation set to test the performance of the model.\n",
    "\n",
    "Finally we will use the given test set for predicting."
   ]
  },
  {
   "cell_type": "code",
   "execution_count": 77,
   "metadata": {},
   "outputs": [],
   "source": [
    "from sklearn.model_selection import train_test_split\n",
    "\n",
    "train, val = train_test_split(train_sample, test_size = 0.1, random_state = 123)"
   ]
  },
  {
   "cell_type": "code",
   "execution_count": 78,
   "metadata": {},
   "outputs": [],
   "source": [
    "\n",
    "X_train = train[cols[:-1]]\n",
    "Y_train = train[cols[-1]]\n",
    "\n",
    "X_Val = val[cols[:-1]]\n",
    "Y_Val = val[cols[-1]]\n",
    "\n",
    "X_test = test_sample[cols[:-1]]"
   ]
  },
  {
   "cell_type": "code",
   "execution_count": 79,
   "metadata": {},
   "outputs": [
    {
     "ename": "ModuleNotFoundError",
     "evalue": "No module named 'xgboost'",
     "output_type": "error",
     "traceback": [
      "\u001b[1;31m---------------------------------------------------------------------------\u001b[0m",
      "\u001b[1;31mModuleNotFoundError\u001b[0m                       Traceback (most recent call last)",
      "\u001b[1;32m<ipython-input-79-10c451837361>\u001b[0m in \u001b[0;36m<module>\u001b[1;34m\u001b[0m\n\u001b[1;32m----> 1\u001b[1;33m \u001b[1;32mfrom\u001b[0m \u001b[0mxgboost\u001b[0m \u001b[1;32mimport\u001b[0m \u001b[0mXGBClassifier\u001b[0m\u001b[1;33m\u001b[0m\u001b[1;33m\u001b[0m\u001b[0m\n\u001b[0m\u001b[0;32m      2\u001b[0m \u001b[1;33m\u001b[0m\u001b[0m\n\u001b[0;32m      3\u001b[0m \u001b[0mxgb\u001b[0m \u001b[1;33m=\u001b[0m \u001b[0mXGBClassifier\u001b[0m\u001b[1;33m(\u001b[0m\u001b[1;33m)\u001b[0m\u001b[1;33m\u001b[0m\u001b[1;33m\u001b[0m\u001b[0m\n\u001b[0;32m      4\u001b[0m \u001b[1;33m\u001b[0m\u001b[0m\n\u001b[0;32m      5\u001b[0m \u001b[0mxgb\u001b[0m\u001b[1;33m.\u001b[0m\u001b[0mfit\u001b[0m\u001b[1;33m(\u001b[0m\u001b[0mX_train\u001b[0m\u001b[1;33m,\u001b[0m\u001b[0mY_train\u001b[0m\u001b[1;33m)\u001b[0m\u001b[1;33m\u001b[0m\u001b[1;33m\u001b[0m\u001b[0m\n",
      "\u001b[1;31mModuleNotFoundError\u001b[0m: No module named 'xgboost'"
     ]
    }
   ],
   "source": [
    "from xgboost import XGBClassifier\n",
    "\n",
    "xgb = XGBClassifier()\n",
    "\n",
    "xgb.fit(X_train,Y_train)"
   ]
  },
  {
   "cell_type": "code",
   "execution_count": null,
   "metadata": {},
   "outputs": [],
   "source": [
    "xgb.score(X_Val,Y_Val)"
   ]
  },
  {
   "cell_type": "code",
   "execution_count": null,
   "metadata": {},
   "outputs": [],
   "source": [
    "Predictions = xgb.predict(X_test)"
   ]
  },
  {
   "cell_type": "markdown",
   "metadata": {},
   "source": [
    "Lets write the predictions into an excel file for uploading into MachineHack"
   ]
  },
  {
   "cell_type": "code",
   "execution_count": null,
   "metadata": {},
   "outputs": [],
   "source": [
    "pd.DataFrame(Predictions, columns = ['Delivery_Time']).to_excel(\"Submission_1.xlsx\", index = False)"
   ]
  },
  {
   "cell_type": "code",
   "execution_count": null,
   "metadata": {},
   "outputs": [],
   "source": []
  },
  {
   "cell_type": "code",
   "execution_count": null,
   "metadata": {},
   "outputs": [],
   "source": []
  },
  {
   "cell_type": "code",
   "execution_count": null,
   "metadata": {},
   "outputs": [],
   "source": []
  },
  {
   "cell_type": "code",
   "execution_count": null,
   "metadata": {},
   "outputs": [],
   "source": []
  },
  {
   "cell_type": "code",
   "execution_count": null,
   "metadata": {},
   "outputs": [],
   "source": []
  },
  {
   "cell_type": "code",
   "execution_count": null,
   "metadata": {},
   "outputs": [],
   "source": []
  }
 ],
 "metadata": {
  "kernelspec": {
   "display_name": "Python 3",
   "language": "python",
   "name": "python3"
  },
  "language_info": {
   "codemirror_mode": {
    "name": "ipython",
    "version": 3
   },
   "file_extension": ".py",
   "mimetype": "text/x-python",
   "name": "python",
   "nbconvert_exporter": "python",
   "pygments_lexer": "ipython3",
   "version": "3.7.3"
  }
 },
 "nbformat": 4,
 "nbformat_minor": 2
}
